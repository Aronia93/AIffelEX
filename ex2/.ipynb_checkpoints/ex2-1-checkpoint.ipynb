{
 "cells": [
  {
   "cell_type": "code",
   "execution_count": 62,
   "id": "b13b6a84",
   "metadata": {},
   "outputs": [],
   "source": [
    "import pandas as pd\n",
    "import numpy as np\n",
    "import matplotlib.pyplot as plt\n",
    "from sklearn.datasets import load_diabetes"
   ]
  },
  {
   "cell_type": "code",
   "execution_count": 63,
   "id": "c380ecc3",
   "metadata": {},
   "outputs": [
    {
     "data": {
      "text/plain": [
       "sklearn.utils.Bunch"
      ]
     },
     "execution_count": 63,
     "metadata": {},
     "output_type": "execute_result"
    }
   ],
   "source": [
    "diabetes = load_diabetes()\n",
    "type(diabetes)"
   ]
  },
  {
   "cell_type": "code",
   "execution_count": 64,
   "id": "84cd7daf",
   "metadata": {},
   "outputs": [],
   "source": [
    "df_X =diabetes.data\n",
    "df_y =diabetes.target"
   ]
  },
  {
   "cell_type": "code",
   "execution_count": 65,
   "id": "9c3efe0b",
   "metadata": {},
   "outputs": [],
   "source": [
    "df_X = np.array(df_X)\n",
    "df_y = np.array(df_y)"
   ]
  },
  {
   "cell_type": "code",
   "execution_count": 66,
   "id": "61475145",
   "metadata": {},
   "outputs": [
    {
     "name": "stdout",
     "output_type": "stream",
     "text": [
      "(353, 10) (353,)\n",
      "(89, 10) (89,)\n"
     ]
    }
   ],
   "source": [
    "from sklearn.model_selection import train_test_split\n",
    "X_train, X_test, y_train, y_test = train_test_split(df_X, df_y, test_size=0.2, random_state=42)\n",
    "print(X_train.shape, y_train.shape)\n",
    "print(X_test.shape, y_test.shape)"
   ]
  },
  {
   "cell_type": "code",
   "execution_count": 67,
   "id": "86abdc95",
   "metadata": {},
   "outputs": [],
   "source": [
    "w = np.random.rand(10)\n",
    "b = np.random.rand()\n",
    "\n",
    "def model(x, w, b):\n",
    "    pred = 0\n",
    "    for i in range(10):\n",
    "        pred += x[:, i] * w[i]\n",
    "    pred += b\n",
    "    return pred"
   ]
  },
  {
   "cell_type": "code",
   "execution_count": 68,
   "id": "6cd05094",
   "metadata": {},
   "outputs": [],
   "source": [
    "def MSE(a, b):\n",
    "    mse = ((a - b) ** 2).mean()\n",
    "    return mse\n",
    "\n",
    "def loss(x, w, b, y):\n",
    "    pred = model(x, w, b)\n",
    "    L = MSE(pred, y)\n",
    "    return L"
   ]
  },
  {
   "cell_type": "code",
   "execution_count": 69,
   "id": "f236c4fa",
   "metadata": {},
   "outputs": [],
   "source": [
    "def gradient(x, w, b, y):\n",
    "    N = len(y)\n",
    "    \n",
    "    y_pred = model(x, w, b)\n",
    "    dw = 1/N * 2 * x.T.dot(y_pred - y)\n",
    "    db = 2 * (y_pred - y).mean()\n",
    "    return dw, db\n",
    "\n",
    "dw, db = gradient(X_train, w, b, y_train)"
   ]
  },
  {
   "cell_type": "code",
   "execution_count": 70,
   "id": "6df7c30e",
   "metadata": {},
   "outputs": [],
   "source": [
    "LEARNING_RATE = 0.01"
   ]
  },
  {
   "cell_type": "code",
   "execution_count": 71,
   "id": "2369a117",
   "metadata": {},
   "outputs": [
    {
     "name": "stdout",
     "output_type": "stream",
     "text": [
      "Iteration 2000 : Loss 4877.9053\n",
      "Iteration 4000 : Loss 4223.0896\n",
      "Iteration 6000 : Loss 3840.6477\n",
      "Iteration 8000 : Loss 3602.4800\n",
      "Iteration 10000 : Loss 3444.0318\n",
      "Iteration 12000 : Loss 3332.0955\n",
      "Iteration 14000 : Loss 3249.0627\n",
      "Iteration 16000 : Loss 3185.1944\n",
      "Iteration 18000 : Loss 3134.8051\n",
      "Iteration 20000 : Loss 3094.3630\n",
      "Iteration 22000 : Loss 3061.5294\n",
      "Iteration 24000 : Loss 3034.6633\n",
      "Iteration 26000 : Loss 3012.5580\n",
      "Iteration 28000 : Loss 2994.2940\n",
      "Iteration 30000 : Loss 2979.1534\n",
      "Iteration 32000 : Loss 2966.5660\n",
      "Iteration 34000 : Loss 2956.0741\n",
      "Iteration 36000 : Loss 2947.3074\n",
      "Iteration 38000 : Loss 2939.9646\n",
      "Iteration 40000 : Loss 2933.7999\n"
     ]
    }
   ],
   "source": [
    "losses = []\n",
    "\n",
    "for i in range(1, 40001):\n",
    "    dw, db = gradient(X_train, w, b, y_train)\n",
    "    w -=  LEARNING_RATE * dw\n",
    "    b -= LEARNING_RATE * db\n",
    "    L = loss(X_train, w, b, y_train)\n",
    "    losses.append(L)\n",
    "    if i % 2000 == 0:\n",
    "        print('Iteration %d : Loss %0.4f' % (i, L))\n",
    "    if L < 2000 :\n",
    "        print(f\"complete repeat : {i}, Loss : {L}\")\n",
    "        break"
   ]
  },
  {
   "cell_type": "code",
   "execution_count": 72,
   "id": "a931b1ad",
   "metadata": {
    "scrolled": true
   },
   "outputs": [
    {
     "data": {
      "image/png": "[encoded data removed]",
      "text/plain": [
       "<Figure size 432x288 with 1 Axes>"
      ]
     },
     "metadata": {
      "needs_background": "light"
     },
     "output_type": "display_data"
    }
   ],
   "source": [
    "plt.plot(losses)\n",
    "plt.show()"
   ]
  },
  {
   "cell_type": "code",
   "execution_count": 73,
   "id": "2dc83703",
   "metadata": {},
   "outputs": [
    {
     "data": {
      "text/plain": [
       "2864.3131979975446"
      ]
     },
     "execution_count": 73,
     "metadata": {},
     "output_type": "execute_result"
    }
   ],
   "source": [
    "pred = model(X_test,w,b)\n",
    "mse = loss(X_test,w,b,y_test)\n",
    "mse"
   ]
  },
  {
   "cell_type": "code",
   "execution_count": 74,
   "id": "5cba850c",
   "metadata": {},
   "outputs": [
    {
     "data": {
      "image/png": "[encoded data removed]",
      "text/plain": [
       "<Figure size 432x288 with 1 Axes>"
      ]
     },
     "metadata": {
      "needs_background": "light"
     },
     "output_type": "display_data"
    }
   ],
   "source": [
    "plt.scatter(X_test[:, 0], y_test)\n",
    "plt.scatter(X_test[:, 0], pred)\n",
    "plt.show()"
   ]
  },
  {
   "cell_type": "code",
   "execution_count": null,
   "id": "df9b9d13",
   "metadata": {},
   "outputs": [],
   "source": []
  },
  {
   "cell_type": "code",
   "execution_count": null,
   "id": "63995225",
   "metadata": {},
   "outputs": [],
   "source": []
  },
  {
   "cell_type": "code",
   "execution_count": null,
   "id": "7e9cff88",
   "metadata": {},
   "outputs": [],
   "source": []
  }
 ],
 "metadata": {
  "kernelspec": {
   "display_name": "Python 3 (ipykernel)",
   "language": "python",
   "name": "python3"
  },
  "language_info": {
   "codemirror_mode": {
    "name": "ipython",
    "version": 3
   },
   "file_extension": ".py",
   "mimetype": "text/x-python",
   "name": "python",
   "nbconvert_exporter": "python",
   "pygments_lexer": "ipython3",
   "version": "3.9.7"
  }
 },
 "nbformat": 4,
 "nbformat_minor": 5
}
