{
 "cells": [
  {
   "cell_type": "code",
   "execution_count": 75,
   "id": "a6415278",
   "metadata": {},
   "outputs": [],
   "source": [
    "import pandas as pd\n",
    "import numpy as np\n",
    "import matplotlib.pyplot as plt\n",
    "from sklearn.datasets import load_diabetes"
   ]
  },
  {
   "cell_type": "code",
   "execution_count": 76,
   "id": "462acdb6",
   "metadata": {},
   "outputs": [
    {
     "data": {
      "text/plain": [
       "sklearn.utils.Bunch"
      ]
     },
     "execution_count": 76,
     "metadata": {},
     "output_type": "execute_result"
    }
   ],
   "source": [
    "diabetes = load_diabetes()  #데이터 셋 준비\n",
    "type(diabetes)"
   ]
  },
  {
   "cell_type": "code",
   "execution_count": 77,
   "id": "3862d141",
   "metadata": {},
   "outputs": [],
   "source": [
    "df_X =diabetes.data  # 데이터를 각 변수에 저장\n",
    "df_y =diabetes.target"
   ]
  },
  {
   "cell_type": "code",
   "execution_count": 78,
   "id": "75c7e56f",
   "metadata": {},
   "outputs": [],
   "source": [
    "df_X = np.array(df_X) # 데이터를 array형태로 변환 (기본이 array 형태이긴하다)\n",
    "df_y = np.array(df_y)"
   ]
  },
  {
   "cell_type": "code",
   "execution_count": 79,
   "id": "eacdf059",
   "metadata": {},
   "outputs": [
    {
     "name": "stdout",
     "output_type": "stream",
     "text": [
      "(353, 10) (353,)\n",
      "(89, 10) (89,)\n"
     ]
    }
   ],
   "source": [
    "from sklearn.model_selection import train_test_split\n",
    "X_train, X_test, y_train, y_test = train_test_split(df_X, df_y, test_size=0.2, random_state=42)  #test size를 20%크기로 분리\n",
    "print(X_train.shape, y_train.shape)\n",
    "print(X_test.shape, y_test.shape)"
   ]
  },
  {
   "cell_type": "code",
   "execution_count": 80,
   "id": "0af2f519",
   "metadata": {},
   "outputs": [],
   "source": [
    "w = np.random.rand(10)  #임의의 w 가중치 값 10개 선별\n",
    "b = np.random.rand()  #임의의 b 편향 값 선별\n",
    "\n",
    "def model(x, w, b):\n",
    "    pred = 0\n",
    "    for i in range(10):\n",
    "        pred += x[:, i] * w[i] # 모든 w에 대해 더해주기(10개)\n",
    "    pred += b # b값 더해주기\n",
    "    return pred"
   ]
  },
  {
   "cell_type": "code",
   "execution_count": 81,
   "id": "3d719619",
   "metadata": {},
   "outputs": [],
   "source": [
    "def MSE(a, b):\n",
    "    mse = ((a - b) ** 2).mean()\n",
    "    return mse\n",
    "\n",
    "def loss(x, w, b, y):\n",
    "    pred = model(x, w, b)\n",
    "    L = MSE(pred, y) # 예측값과 실제 y값의 MSE 값 산출\n",
    "    return L"
   ]
  },
  {
   "cell_type": "code",
   "execution_count": 82,
   "id": "dabc33f6",
   "metadata": {},
   "outputs": [],
   "source": [
    "def gradient(x, w, b, y):\n",
    "    N = len(y)\n",
    "    \n",
    "    y_pred = model(x, w, b)\n",
    "    dw = 1/N * 2 * x.T.dot(y_pred - y)  # MSE를 w로 편미분한 식\n",
    "    db = 2 * (y_pred - y).mean()\n",
    "    return dw, db\n",
    "\n",
    "dw, db = gradient(X_train, w, b, y_train)"
   ]
  },
  {
   "cell_type": "code",
   "execution_count": 83,
   "id": "2555da78",
   "metadata": {},
   "outputs": [],
   "source": [
    "LEARNING_RATE = 0.01"
   ]
  },
  {
   "cell_type": "code",
   "execution_count": 84,
   "id": "4be7b63d",
   "metadata": {},
   "outputs": [
    {
     "name": "stdout",
     "output_type": "stream",
     "text": [
      "Iteration 2000 : Loss 4878.4431\n",
      "Iteration 4000 : Loss 4223.0863\n",
      "Iteration 6000 : Loss 3840.4304\n",
      "Iteration 8000 : Loss 3602.1990\n",
      "Iteration 10000 : Loss 3443.7530\n",
      "Iteration 12000 : Loss 3331.8450\n",
      "Iteration 14000 : Loss 3248.8482\n",
      "Iteration 16000 : Loss 3185.0156\n",
      "Iteration 18000 : Loss 3134.6586\n",
      "Iteration 20000 : Loss 3094.2444\n",
      "Iteration 22000 : Loss 3061.4342\n",
      "Iteration 24000 : Loss 3034.5878\n",
      "Iteration 26000 : Loss 3012.4986\n",
      "Iteration 28000 : Loss 2994.2479\n",
      "Iteration 30000 : Loss 2979.1182\n",
      "Iteration 32000 : Loss 2966.5397\n",
      "Iteration 34000 : Loss 2956.0551\n",
      "Iteration 36000 : Loss 2947.2943\n",
      "Iteration 38000 : Loss 2939.9563\n",
      "Iteration 40000 : Loss 2933.7954\n"
     ]
    }
   ],
   "source": [
    "losses = [] \n",
    "\n",
    "for i in range(1, 40001):  # 회차를 반복하며 w,b값을 갱신 및 각 회차별 loss값을 losses 리스트에 저장\n",
    "    dw, db = gradient(X_train, w, b, y_train)\n",
    "    w -=  LEARNING_RATE * dw\n",
    "    b -= LEARNING_RATE * db\n",
    "    L = loss(X_train, w, b, y_train)\n",
    "    losses.append(L)\n",
    "    if i % 2000 == 0:\n",
    "        print('Iteration %d : Loss %0.4f' % (i, L))  # 2000번의 반복횟수마다 반복수. loss 출력\n",
    "    if L < 2000 :\n",
    "        print(f\"complete repeat : {i}, Loss : {L}\")  # loss가 2000보다 작아질때(MSE<2000) 반복수 및 loss 출력 후 for문 탈출\n",
    "        break"
   ]
  },
  {
   "cell_type": "code",
   "execution_count": 85,
   "id": "5689eda4",
   "metadata": {
    "scrolled": true
   },
   "outputs": [
    {
     "data": {
      "image/png": "[encoded data removed]",
      "text/plain": [
       "<Figure size 432x288 with 1 Axes>"
      ]
     },
     "metadata": {
      "needs_background": "light"
     },
     "output_type": "display_data"
    }
   ],
   "source": [
    "plt.plot(losses)\n",
    "plt.show()"
   ]
  },
  {
   "cell_type": "code",
   "execution_count": 86,
   "id": "d27ce166",
   "metadata": {},
   "outputs": [
    {
     "data": {
      "text/plain": [
       "2864.5404184891763"
      ]
     },
     "execution_count": 86,
     "metadata": {},
     "output_type": "execute_result"
    }
   ],
   "source": [
    "pred = model(X_test,w,b) # 학습된 모델을 통해 X_test값으로부터 예측값 출력\n",
    "mse = loss(X_test,w,b,y_test) # 실제 데이터와 학습된 모델간의 loss값인 MSE 출력\n",
    "mse"
   ]
  },
  {
   "cell_type": "code",
   "execution_count": 87,
   "id": "5b552340",
   "metadata": {},
   "outputs": [
    {
     "data": {
      "image/png": "[encoded data removed]",
      "text/plain": [
       "<Figure size 432x288 with 1 Axes>"
      ]
     },
     "metadata": {
      "needs_background": "light"
     },
     "output_type": "display_data"
    }
   ],
   "source": [
    "plt.scatter(X_test[:, 0], y_test)\n",
    "plt.scatter(X_test[:, 0], pred)\n",
    "plt.show()"
   ]
  },
  {
   "cell_type": "code",
   "execution_count": null,
   "id": "ee8898c7",
   "metadata": {},
   "outputs": [],
   "source": []
  },
  {
   "cell_type": "code",
   "execution_count": null,
   "id": "39717e7c",
   "metadata": {},
   "outputs": [],
   "source": []
  },
  {
   "cell_type": "code",
   "execution_count": null,
   "id": "aa9bfd40",
   "metadata": {},
   "outputs": [],
   "source": []
  }
 ],
 "metadata": {
  "kernelspec": {
   "display_name": "Python 3 (ipykernel)",
   "language": "python",
   "name": "python3"
  },
  "language_info": {
   "codemirror_mode": {
    "name": "ipython",
    "version": 3
   },
   "file_extension": ".py",
   "mimetype": "text/x-python",
   "name": "python",
   "nbconvert_exporter": "python",
   "pygments_lexer": "ipython3",
   "version": "3.9.7"
  }
 },
 "nbformat": 4,
 "nbformat_minor": 5
}
