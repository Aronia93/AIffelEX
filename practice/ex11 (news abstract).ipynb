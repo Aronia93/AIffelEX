{
 "cells": [
  {
   "cell_type": "markdown",
   "id": "0bd52ded",
   "metadata": {},
   "source": [
    "## 텍스트 요약이란?\n",
    "\n",
    "- 텍스트 요약(Text Summarization)이란 위 그림과 같이 긴 길이의 문서(Document) 원문을 핵심 주제만으로 구성된 짧은 요약(Summary) 문장들로 변환하는 것\n",
    "- 중요한 것은 요약 전후에 정보 손실 발생이 최소화되어야 한다는 점\n",
    "- 텍스트의 길이가 크게 줄어들었지만, 요약문은 문서 원문이 담고 있는 정보를 최대한 보존하고 있어야 합니다\n",
    "- 텍스트 요약은 크게 추출적 요약(Extractive Summarization)과 추상적 요약(Abstractive Summarization)의 두 가지 접근으로 나누어볼 수 있습니다.  \n",
    "\n",
    "\n",
    "1. 추출적 요약(Extractive Summarization)  \n",
    "- 추출적 요약은 단어 그대로 원문에서 문장들을 추출해서 요약하는 방식  \n",
    "- 딥러닝보다는 주로 전통적인 머신 러닝 방식에 속하는 텍스트 랭크(TextRank)와 같은 알고리즘을 사용해서 이 방법을 사용\n",
    "- 대표적인 것이 네이버 뉴스 서비스에 있는 요약봇 기능  \n",
    "- 결과로 나온 문장들 간의 호응이 자연스럽지 않을 수 있다는 문제점이 있음\n",
    "\n",
    "2. 추상적 요약(Abstractive Summarization)\n",
    "- 원문으로부터 내용이 요약된 새로운 문장을 생성해내는 것\n",
    "- 여기서 새로운 문장이라는 것은 결과로 나온 문장이 원문에 원래 없던 문장일 수도 있다는 것을 의미\n",
    "- 자연어 처리 분야 중 자연어 생성(Natural Language Generation, NLG)의 영역\n",
    "-  반면, 추출적 요약은 원문을 구성하는 문장 중 어느 것이 요약문에 들어갈 핵심문장인지를 판별한다는 점에서 문장 분류(Text Classification) 문제  \n",
    "\n",
    "#### RNN의 문제점\n",
    "- 장기 의존성(long term dependencies) 문제\n",
    "- Vanishing Gradient와 유사\n",
    "#### 역문서빈도(IDF) 지표 활용한 요약방식의 문제점\n",
    "- 원문에서 발췌하는 방식(Extractive summarization)의 요약 기법은 어색하거나 문법적으로 이상한 결과물을 만드는 문제가 있음\n",
    "\n",
    "#### seq2seq(sequence-to-sequence)\n",
    "- 자동 회신(Smart Reply) 기능을 만든 것과 비슷한 딥러닝 기법이기도 한 인코더와 디코더의 구조로 구성된 딥러닝 아키텍처의 이름\n",
    "- seq2seq은 두 개의 RNN 아키텍처를 사용하여 입력 시퀀스로부터 출력 시퀀스를 생성해 내는 자연어 생성 모델"
   ]
  },
  {
   "cell_type": "code",
   "execution_count": null,
   "id": "89ff7c4c",
   "metadata": {},
   "outputs": [],
   "source": []
  },
  {
   "cell_type": "code",
   "execution_count": null,
   "id": "0f090da8",
   "metadata": {},
   "outputs": [],
   "source": []
  },
  {
   "cell_type": "code",
   "execution_count": null,
   "id": "5b84a0b0",
   "metadata": {},
   "outputs": [],
   "source": []
  },
  {
   "cell_type": "code",
   "execution_count": null,
   "id": "58bdd274",
   "metadata": {},
   "outputs": [],
   "source": []
  },
  {
   "cell_type": "code",
   "execution_count": null,
   "id": "3cd77475",
   "metadata": {},
   "outputs": [],
   "source": []
  },
  {
   "cell_type": "code",
   "execution_count": null,
   "id": "dbaa1d72",
   "metadata": {},
   "outputs": [],
   "source": []
  },
  {
   "cell_type": "code",
   "execution_count": null,
   "id": "13e05380",
   "metadata": {},
   "outputs": [],
   "source": []
  }
 ],
 "metadata": {
  "kernelspec": {
   "display_name": "Python 3 (ipykernel)",
   "language": "python",
   "name": "python3"
  },
  "language_info": {
   "codemirror_mode": {
    "name": "ipython",
    "version": 3
   },
   "file_extension": ".py",
   "mimetype": "text/x-python",
   "name": "python",
   "nbconvert_exporter": "python",
   "pygments_lexer": "ipython3",
   "version": "3.9.7"
  }
 },
 "nbformat": 4,
 "nbformat_minor": 5
}
