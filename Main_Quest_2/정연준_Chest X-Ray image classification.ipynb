{
 "cells": [
  {
   "cell_type": "markdown",
   "id": "14b8d78e",
   "metadata": {},
   "source": [
    "(공통)문제 1.\n",
    "이미지 분류 모델을 만들고,\n",
    "전체 코드와 분류 결과를\n",
    "주피터 노트북 파일로 자신의 깃헙에 제출합니다.  \n",
    "\n",
    "- 이미지 데이터를 적절히 전처리 한 후 데이터 파이프라인을 설계합니다.  \n",
    "- 모델은 VGG-16, VGG-19, ResNet-34, ResNet-50, GoogLeNet 등 케창딥 교재에 소개 된 CNN 모델 중 하나를 선택합니다.  \n",
    "- 텐서플로우 라이브러리에서 모델을 불러오지 않고, 직접 모델 학습 코드를 짜야 합니다. \n",
    "- Data augmentation 등 케창딥에서 배운 모든 방법을 사용해 최고 기록을 달성해보세요."
   ]
  },
  {
   "cell_type": "code",
   "execution_count": 40,
   "id": "e0306e4c",
   "metadata": {},
   "outputs": [],
   "source": [
    "import os, shutil, pathlib\n",
    "import numpy as np\n",
    "import tensorflow as tf\n",
    "import matplotlib.pyplot as plt"
   ]
  },
  {
   "cell_type": "code",
   "execution_count": 41,
   "id": "6936828b",
   "metadata": {},
   "outputs": [],
   "source": [
    "data_path = './archive/chest_xray/chest_xray/'"
   ]
  },
  {
   "cell_type": "code",
   "execution_count": 42,
   "id": "ed59b02a",
   "metadata": {},
   "outputs": [],
   "source": [
    "train = data_path + 'train/'\n",
    "val = data_path + 'val/'\n",
    "test = data_path + 'test/'\n",
    "train_n = data_path + 'train/NORMAL/'\n",
    "train_p = data_path + 'train/PNEUMONIA/'\n",
    "val_n = data_path + 'val/NORMAL/'\n",
    "val_p = data_path + 'val/PNEUMONIA/'\n",
    "test_n = data_path + 'test/NORMAL/'\n",
    "test_p = data_path + 'test/PNEUMONIA/'"
   ]
  },
  {
   "cell_type": "code",
   "execution_count": 43,
   "id": "f5abd775",
   "metadata": {},
   "outputs": [
    {
     "name": "stdout",
     "output_type": "stream",
     "text": [
      "train_n : 1342\n",
      "train_p : 3876\n",
      "val_n : 9\n",
      "val_p : 9\n",
      "test_n : 234\n",
      "test_p : 390\n"
     ]
    }
   ],
   "source": [
    "print(\"train_n :\",len(os.listdir(train_n)))\n",
    "print(\"train_p :\",len(os.listdir(train_p)))\n",
    "print(\"val_n :\",len(os.listdir(val_n)))\n",
    "print(\"val_p :\",len(os.listdir(val_p)))\n",
    "print(\"test_n :\",len(os.listdir(test_n)))\n",
    "print(\"test_p :\",len(os.listdir(test_p)))"
   ]
  },
  {
   "cell_type": "code",
   "execution_count": 44,
   "id": "9dec12b6",
   "metadata": {},
   "outputs": [],
   "source": [
    "from tensorflow.keras.utils import image_dataset_from_directory"
   ]
  },
  {
   "cell_type": "code",
   "execution_count": 45,
   "id": "2e6364df",
   "metadata": {},
   "outputs": [
    {
     "name": "stdout",
     "output_type": "stream",
     "text": [
      "Found 5216 files belonging to 2 classes.\n",
      "Found 16 files belonging to 2 classes.\n",
      "Found 624 files belonging to 2 classes.\n"
     ]
    }
   ],
   "source": [
    "image_size = (56, 56)\n",
    "batch_size = 32\n",
    "train_data = image_dataset_from_directory(\n",
    "    train, image_size=image_size, batch_size=batch_size)\n",
    "val_data = image_dataset_from_directory(\n",
    "    val, image_size=image_size, batch_size=batch_size)\n",
    "test_data = image_dataset_from_directory(\n",
    "    test, image_size=image_size, batch_size=batch_size)"
   ]
  },
  {
   "cell_type": "code",
   "execution_count": 46,
   "id": "03826341",
   "metadata": {},
   "outputs": [
    {
     "name": "stdout",
     "output_type": "stream",
     "text": [
      "데이터배치크기 : (32, 56, 56, 3)\n",
      "레이블배치크기 : (32,)\n"
     ]
    }
   ],
   "source": [
    "for data_batch, labels_batch in train_data:\n",
    "    print(\"데이터배치크기 :\",data_batch.shape)\n",
    "    print(\"레이블배치크기 :\",labels_batch.shape)\n",
    "    break"
   ]
  },
  {
   "cell_type": "code",
   "execution_count": 47,
   "id": "564b27d7",
   "metadata": {},
   "outputs": [],
   "source": [
    "from tensorflow import keras\n",
    "from tensorflow.keras import Model\n",
    "from tensorflow.keras import layers,models\n",
    "\n",
    "# 데이터 증식\n",
    "data_aug = keras.Sequential([\n",
    "    layers.RandomFlip('horizontal'),\n",
    "    layers.RandomRotation(0.1),\n",
    "    layers.RandomZoom(0.2)\n",
    "])"
   ]
  },
  {
   "cell_type": "code",
   "execution_count": 51,
   "id": "72908520",
   "metadata": {
    "scrolled": false
   },
   "outputs": [
    {
     "name": "stdout",
     "output_type": "stream",
     "text": [
      "Model: \"model_8\"\n",
      "__________________________________________________________________________________________________\n",
      "Layer (type)                    Output Shape         Param #     Connected to                     \n",
      "==================================================================================================\n",
      "input_9 (InputLayer)            [(None, 56, 56, 3)]  0                                            \n",
      "__________________________________________________________________________________________________\n",
      "sequential_3 (Sequential)       (None, 56, 56, 3)    0           input_9[0][0]                    \n",
      "__________________________________________________________________________________________________\n",
      "conv2d_82 (Conv2D)              (None, 28, 28, 32)   4736        sequential_3[1][0]               \n",
      "__________________________________________________________________________________________________\n",
      "batch_normalization_75 (BatchNo (None, 28, 28, 32)   128         conv2d_82[0][0]                  \n",
      "__________________________________________________________________________________________________\n",
      "activation_57 (Activation)      (None, 28, 28, 32)   0           batch_normalization_75[0][0]     \n",
      "__________________________________________________________________________________________________\n",
      "max_pooling2d_10 (MaxPooling2D) (None, 14, 14, 32)   0           activation_57[0][0]              \n",
      "__________________________________________________________________________________________________\n",
      "conv2d_83 (Conv2D)              (None, 14, 14, 32)   9248        max_pooling2d_10[0][0]           \n",
      "__________________________________________________________________________________________________\n",
      "batch_normalization_76 (BatchNo (None, 14, 14, 32)   128         conv2d_83[0][0]                  \n",
      "__________________________________________________________________________________________________\n",
      "activation_58 (Activation)      (None, 14, 14, 32)   0           batch_normalization_76[0][0]     \n",
      "__________________________________________________________________________________________________\n",
      "conv2d_84 (Conv2D)              (None, 14, 14, 32)   9248        activation_58[0][0]              \n",
      "__________________________________________________________________________________________________\n",
      "batch_normalization_77 (BatchNo (None, 14, 14, 32)   128         conv2d_84[0][0]                  \n",
      "__________________________________________________________________________________________________\n",
      "add_25 (Add)                    (None, 14, 14, 32)   0           batch_normalization_77[0][0]     \n",
      "                                                                 max_pooling2d_10[0][0]           \n",
      "__________________________________________________________________________________________________\n",
      "activation_59 (Activation)      (None, 14, 14, 32)   0           add_25[0][0]                     \n",
      "__________________________________________________________________________________________________\n",
      "conv2d_86 (Conv2D)              (None, 7, 7, 64)     18496       activation_59[0][0]              \n",
      "__________________________________________________________________________________________________\n",
      "batch_normalization_79 (BatchNo (None, 7, 7, 64)     256         conv2d_86[0][0]                  \n",
      "__________________________________________________________________________________________________\n",
      "activation_60 (Activation)      (None, 7, 7, 64)     0           batch_normalization_79[0][0]     \n",
      "__________________________________________________________________________________________________\n",
      "conv2d_87 (Conv2D)              (None, 7, 7, 64)     36928       activation_60[0][0]              \n",
      "__________________________________________________________________________________________________\n",
      "conv2d_85 (Conv2D)              (None, 7, 7, 64)     2112        activation_59[0][0]              \n",
      "__________________________________________________________________________________________________\n",
      "batch_normalization_80 (BatchNo (None, 7, 7, 64)     256         conv2d_87[0][0]                  \n",
      "__________________________________________________________________________________________________\n",
      "batch_normalization_78 (BatchNo (None, 7, 7, 64)     256         conv2d_85[0][0]                  \n",
      "__________________________________________________________________________________________________\n",
      "add_26 (Add)                    (None, 7, 7, 64)     0           batch_normalization_80[0][0]     \n",
      "                                                                 batch_normalization_78[0][0]     \n",
      "__________________________________________________________________________________________________\n",
      "activation_61 (Activation)      (None, 7, 7, 64)     0           add_26[0][0]                     \n",
      "__________________________________________________________________________________________________\n",
      "global_average_pooling2d_7 (Glo (None, 64)           0           activation_61[0][0]              \n",
      "__________________________________________________________________________________________________\n",
      "dense_10 (Dense)                (None, 1)            65          global_average_pooling2d_7[0][0] \n",
      "==================================================================================================\n",
      "Total params: 81,985\n",
      "Trainable params: 81,409\n",
      "Non-trainable params: 576\n",
      "__________________________________________________________________________________________________\n"
     ]
    }
   ],
   "source": [
    "#resnet + 데이터 증식 + 모델 파라미터 축소\n",
    "\n",
    "def residual_block(x, filters, stride=1):\n",
    "    residual = x\n",
    "\n",
    "    if stride != 1 or x.shape[-1] != filters:\n",
    "        residual = layers.Conv2D(filters, 1, strides=stride)(residual)\n",
    "        residual = layers.BatchNormalization()(residual)\n",
    "\n",
    "    x = layers.Conv2D(filters, 3, padding='same', strides=stride)(x)\n",
    "    x = layers.BatchNormalization()(x)\n",
    "    x = layers.Activation('relu')(x)\n",
    "\n",
    "    x = layers.Conv2D(filters, 3, padding='same')(x)\n",
    "    x = layers.BatchNormalization()(x)\n",
    "\n",
    "    x = layers.Add()([x, residual])\n",
    "    x = layers.Activation('relu')(x)\n",
    "\n",
    "    return x\n",
    "\n",
    "def resnet(input_shape, num_classes=1):\n",
    "    inputs = keras.Input(shape=input_shape)\n",
    "    x = data_aug(inputs)\n",
    "    x = layers.Conv2D(32, 7, strides=2, padding='same')(x)\n",
    "    x = layers.BatchNormalization()(x)\n",
    "    x = layers.Activation('relu')(x)\n",
    "    x = layers.MaxPool2D(pool_size=3, strides=2, padding='same')(x)\n",
    "\n",
    "    x = residual_block(x, 32)\n",
    "    x = residual_block(x, 64, stride=2)\n",
    "\n",
    "    x = layers.GlobalAveragePooling2D()(x)\n",
    "    outputs = layers.Dense(num_classes, activation='sigmoid')(x)\n",
    "\n",
    "    return keras.Model(inputs, outputs)\n",
    "\n",
    "model = resnet((56, 56, 3))\n",
    "model.compile(optimizer='rmsprop',\n",
    "              loss='binary_crossentropy', \n",
    "              metrics=['accuracy'])\n",
    "# 모델 생성\n",
    "\n",
    "\n",
    "model.summary()\n",
    "\n"
   ]
  },
  {
   "cell_type": "code",
   "execution_count": 52,
   "id": "ea00354e",
   "metadata": {},
   "outputs": [
    {
     "name": "stdout",
     "output_type": "stream",
     "text": [
      "Epoch 1/10\n",
      "163/163 [==============================] - 60s 346ms/step - loss: 0.2751 - accuracy: 0.8815 - val_loss: 7.5468 - val_accuracy: 0.5000\n",
      "Epoch 2/10\n",
      "163/163 [==============================] - 58s 344ms/step - loss: 0.1997 - accuracy: 0.9193 - val_loss: 0.7125 - val_accuracy: 0.6250\n",
      "Epoch 3/10\n",
      "163/163 [==============================] - 58s 343ms/step - loss: 0.1756 - accuracy: 0.9285 - val_loss: 1.3264 - val_accuracy: 0.4375\n",
      "Epoch 4/10\n",
      "163/163 [==============================] - 58s 343ms/step - loss: 0.1643 - accuracy: 0.9358 - val_loss: 3.0466 - val_accuracy: 0.5000\n",
      "Epoch 5/10\n",
      "163/163 [==============================] - 58s 342ms/step - loss: 0.1485 - accuracy: 0.9440 - val_loss: 0.9038 - val_accuracy: 0.6875\n",
      "Epoch 6/10\n",
      "163/163 [==============================] - 58s 341ms/step - loss: 0.1426 - accuracy: 0.9442 - val_loss: 1.8765 - val_accuracy: 0.5000\n",
      "Epoch 7/10\n",
      "163/163 [==============================] - 58s 343ms/step - loss: 0.1261 - accuracy: 0.9530 - val_loss: 3.8862 - val_accuracy: 0.5000\n",
      "Epoch 8/10\n",
      "163/163 [==============================] - 58s 346ms/step - loss: 0.1275 - accuracy: 0.9519 - val_loss: 2.8485 - val_accuracy: 0.5625\n",
      "Epoch 9/10\n",
      "163/163 [==============================] - 58s 344ms/step - loss: 0.1263 - accuracy: 0.9500 - val_loss: 0.4556 - val_accuracy: 0.8125\n",
      "Epoch 10/10\n",
      "163/163 [==============================] - 58s 345ms/step - loss: 0.1191 - accuracy: 0.9555 - val_loss: 3.3737 - val_accuracy: 0.5000\n"
     ]
    }
   ],
   "source": [
    "callbacks = [\n",
    "    keras.callbacks.ModelCheckpoint(\n",
    "        filepath=\"resnet.keras\",\n",
    "        save_best_only=True,\n",
    "        monitor=\"val_loss\")\n",
    "]\n",
    "history = model.fit(\n",
    "    train_data,\n",
    "    epochs=10,\n",
    "    validation_data=val_data,\n",
    "    callbacks=callbacks)"
   ]
  },
  {
   "cell_type": "code",
   "execution_count": 53,
   "id": "82762f22",
   "metadata": {},
   "outputs": [
    {
     "data": {
      "image/png": "[encoded data removed]",
      "text/plain": [
       "<Figure size 432x288 with 1 Axes>"
      ]
     },
     "metadata": {
      "needs_background": "light"
     },
     "output_type": "display_data"
    },
    {
     "data": {
      "image/png": "[encoded data removed]",
      "text/plain": [
       "<Figure size 432x288 with 1 Axes>"
      ]
     },
     "metadata": {
      "needs_background": "light"
     },
     "output_type": "display_data"
    }
   ],
   "source": [
    "# 훈련 정확도 / 손실 그래프 그리기\n",
    "\n",
    "accuracy = history.history[\"accuracy\"]\n",
    "val_accuracy = history.history[\"val_accuracy\"]\n",
    "loss = history.history[\"loss\"]\n",
    "val_loss = history.history[\"val_loss\"]\n",
    "epochs = range(1, len(accuracy) + 1)\n",
    "plt.plot(epochs, accuracy, \"bo\", label=\"Training accuracy\")\n",
    "plt.plot(epochs, val_accuracy, \"b\", label=\"Validation accuracy\")\n",
    "plt.title(\"Training and validation accuracy\")\n",
    "plt.legend()\n",
    "plt.figure()\n",
    "plt.plot(epochs, loss, \"bo\", label=\"Training loss\")\n",
    "plt.plot(epochs, val_loss, \"b\", label=\"Validation loss\")\n",
    "plt.title(\"Training and validation loss\")\n",
    "plt.legend()\n",
    "plt.show()"
   ]
  },
  {
   "cell_type": "code",
   "execution_count": 54,
   "id": "b1721246",
   "metadata": {},
   "outputs": [
    {
     "name": "stdout",
     "output_type": "stream",
     "text": [
      "20/20 [==============================] - 6s 139ms/step - loss: 0.3809 - accuracy: 0.8606\n",
      "테스트 정확도: 0.861\n"
     ]
    }
   ],
   "source": [
    "# 테스트로 모델 평가\n",
    "\n",
    "test_model = keras.models.load_model(\"resnet.keras\")\n",
    "test_loss, test_acc = test_model.evaluate(test_data)\n",
    "print(f\"테스트 정확도: {test_acc:.3f}\")"
   ]
  },
  {
   "cell_type": "code",
   "execution_count": null,
   "id": "8ffc299d",
   "metadata": {},
   "outputs": [],
   "source": []
  },
  {
   "cell_type": "code",
   "execution_count": null,
   "id": "b3b1b389",
   "metadata": {},
   "outputs": [],
   "source": []
  },
  {
   "cell_type": "markdown",
   "id": "45dd3cf3",
   "metadata": {},
   "source": [
    "(선택)문제 2. \n",
    "이미지 분류 학습 결과를 텐서보드로 시각화합니다. (2점)  \n",
    "\n",
    "- tensorboard.dev를 사용해 텐서보드 결과를 공유할 수 있는 url 주소 링크를 자신의 깃헙 Main_Quest_2 폴더 내의 Readme.md 파일에 게시합니다."
   ]
  },
  {
   "cell_type": "code",
   "execution_count": 56,
   "id": "0c11d5fb",
   "metadata": {},
   "outputs": [
    {
     "name": "stdout",
     "output_type": "stream",
     "text": [
      "Epoch 1/5\n",
      "163/163 [==============================] - 59s 351ms/step - loss: 0.1238 - accuracy: 0.9540 - val_loss: 0.8535 - val_accuracy: 0.6250\n",
      "Epoch 2/5\n",
      "163/163 [==============================] - 58s 344ms/step - loss: 0.1218 - accuracy: 0.9555 - val_loss: 0.7169 - val_accuracy: 0.5625\n",
      "Epoch 3/5\n",
      "163/163 [==============================] - 58s 343ms/step - loss: 0.1100 - accuracy: 0.9582 - val_loss: 2.2688 - val_accuracy: 0.5000\n",
      "Epoch 4/5\n",
      "163/163 [==============================] - 58s 345ms/step - loss: 0.1105 - accuracy: 0.9599 - val_loss: 3.0433 - val_accuracy: 0.5000\n",
      "Epoch 5/5\n",
      "163/163 [==============================] - 58s 345ms/step - loss: 0.1124 - accuracy: 0.9563 - val_loss: 0.7843 - val_accuracy: 0.6250\n"
     ]
    }
   ],
   "source": [
    "tensorboard = keras.callbacks.TensorBoard(log_dir=\"/fullpath\")\n",
    "history = model.fit(\n",
    "    train_data,\n",
    "    epochs=5,\n",
    "    validation_data=val_data,\n",
    "    callbacks=[tensorboard])"
   ]
  },
  {
   "cell_type": "code",
   "execution_count": 99,
   "id": "f70298aa",
   "metadata": {},
   "outputs": [],
   "source": [
    "!kill 902"
   ]
  },
  {
   "cell_type": "code",
   "execution_count": 109,
   "id": "765a4668",
   "metadata": {},
   "outputs": [
    {
     "name": "stdout",
     "output_type": "stream",
     "text": [
      "The tensorboard extension is already loaded. To reload it, use:\n",
      "  %reload_ext tensorboard\n",
      "\n",
      "NOTE: Using experimental fast data loading logic. To disable, pass\n",
      "    \"--load_fast=false\" and report issues on GitHub. More details:\n",
      "    https://github.com/tensorflow/tensorboard/issues/4784\n",
      "\n",
      "Serving TensorBoard on localhost; to expose to the network, use a proxy or pass --bind_all\n",
      "TensorBoard 2.8.0 at http://localhost:16001/ (Press CTRL+C to quit)\n",
      "^C\n"
     ]
    }
   ],
   "source": [
    "%load_ext tensorboard\n",
    "!tensorboard --logdir=/fullpath --port=16001"
   ]
  },
  {
   "cell_type": "code",
   "execution_count": null,
   "id": "ba7e857a",
   "metadata": {},
   "outputs": [],
   "source": []
  },
  {
   "cell_type": "markdown",
   "id": "794531a8",
   "metadata": {},
   "source": [
    "(선택)문제 3. \n",
    "가장 성능이 좋은 모델에 CAM을 적용해, \n",
    "분류결과에 대한 근거를 시각화하고 분석해보세요. (2점)  \n",
    "\n",
    "- tensorboard.dev를 사용해 텐서보드 결과를 공유할 수 있는 url 주소 링크를 자신의 깃헙 Main_Quest_2 폴더 내의 Readme.md 파일에 게시합니다."
   ]
  },
  {
   "cell_type": "code",
   "execution_count": null,
   "id": "7188a4b2",
   "metadata": {},
   "outputs": [],
   "source": []
  },
  {
   "cell_type": "code",
   "execution_count": null,
   "id": "49d6a54f",
   "metadata": {},
   "outputs": [],
   "source": []
  },
  {
   "cell_type": "code",
   "execution_count": null,
   "id": "36db689f",
   "metadata": {},
   "outputs": [],
   "source": []
  },
  {
   "cell_type": "code",
   "execution_count": null,
   "id": "301436f3",
   "metadata": {},
   "outputs": [],
   "source": []
  }
 ],
 "metadata": {
  "kernelspec": {
   "display_name": "Python 3 (ipykernel)",
   "language": "python",
   "name": "python3"
  },
  "language_info": {
   "codemirror_mode": {
    "name": "ipython",
    "version": 3
   },
   "file_extension": ".py",
   "mimetype": "text/x-python",
   "name": "python",
   "nbconvert_exporter": "python",
   "pygments_lexer": "ipython3",
   "version": "3.9.7"
  }
 },
 "nbformat": 4,
 "nbformat_minor": 5
}
