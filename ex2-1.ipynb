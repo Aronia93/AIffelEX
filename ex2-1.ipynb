[InternetShortcut]
URL=https://8888-wsm3wv74sw3t30jhhtliygvty.container-server-prod.aiffel.io/notebooks/aiffel/workplace/AiffelEX/ex2-1.ipynb
