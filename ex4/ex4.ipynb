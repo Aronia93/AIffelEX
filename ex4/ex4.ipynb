{
 "cells": [
  {
   "cell_type": "markdown",
   "id": "0e96f8ad",
   "metadata": {},
   "source": [
    "* 데이터 전처리, 모델학습, 예측의 전체 과정을 거쳐 캐글 submission까지 전과정이 성공적으로 진행되었는가?  \n",
    "* 제출된 노트북이 캐글 커널로 사용될 수 있을 만큼 전처리, 학습, 최적화 진행 과정이 체계적으로 기술되었는가?  \n",
    "* 다양한 피처 엔지니어링과 하이퍼 파라미터 튜닝 등의 최적화 기법을 통해 캐글 리더보드의 Private score 기준 110000 이하의 점수를 얻었는가?  \n",
    "\n",
    "#### 방법\n",
    "* 아주 다양하게 데이터를 탐색해 본 커널도 있고, 상위권을 달성한 커널은 오늘 다루지 않은 스태킹 앙상블(stacking ensemble) 등의 기법을 활용한 커널을 활용하기도 합니다. 한 번씩 구경해보고 다른 사람들은 어떤 전략으로 성능을 끌어올렸는지 공부해보는 것도 매우 좋을 겁니다!\n",
    "\n",
    "* 여러 가지 실험을 해보고 결과 csv는 캐글에, 사용한 노트북은 깃허브(GitHub)를 통해 이곳에 제출해 주세요. 제출한 노트북에는 본인의 캐글 Submission 스코어를 기재해 주시기 바랍니다."
   ]
  },
  {
   "cell_type": "code",
   "execution_count": 16,
   "id": "57b59fe9",
   "metadata": {},
   "outputs": [],
   "source": [
    "import warnings\n",
    "warnings.filterwarnings(\"ignore\")\n",
    "\n",
    "import os\n",
    "from os.path import join\n",
    "\n",
    "import pandas as pd\n",
    "import numpy as np\n",
    "\n",
    "import missingno as msno\n",
    "\n",
    "from sklearn.ensemble import GradientBoostingRegressor\n",
    "from sklearn.model_selection import KFold, cross_val_score\n",
    "import xgboost as xgb\n",
    "import lightgbm as lgb\n",
    "\n",
    "import matplotlib.pyplot as plt\n",
    "import seaborn as sns\n",
    "from sklearn.model_selection import train_test_split\n",
    "from sklearn.metrics import mean_squared_error\n",
    "from sklearn.ensemble import RandomForestRegressor\n",
    "from sklearn.model_selection import GridSearchCV\n",
    "from sklearn.ensemble import AdaBoostClassifier"
   ]
  },
  {
   "cell_type": "code",
   "execution_count": 17,
   "id": "321b71b6",
   "metadata": {},
   "outputs": [
    {
     "name": "stdout",
     "output_type": "stream",
     "text": [
      "/aiffel/aiffel/kaggle_kakr_housing/data/train.csv\n",
      "/aiffel/aiffel/kaggle_kakr_housing/data/test.csv\n"
     ]
    }
   ],
   "source": [
    "data_dir = os.getenv('HOME') + '/aiffel/kaggle_kakr_housing/data/'\n",
    "\n",
    "train_data_path = join(data_dir, 'train.csv')\n",
    "sub_data_path = join(data_dir, 'test.csv')      # 테스트, 즉 submission 시 사용할 데이터 경로\n",
    "\n",
    "print(train_data_path)\n",
    "print(sub_data_path)"
   ]
  },
  {
   "cell_type": "code",
   "execution_count": 18,
   "id": "2fa2bc3d",
   "metadata": {},
   "outputs": [
    {
     "name": "stdout",
     "output_type": "stream",
     "text": [
      "train data dim : (15035, 21)\n",
      "sub data dim : (6468, 20)\n"
     ]
    }
   ],
   "source": [
    "data = pd.read_csv(train_data_path)\n",
    "sub = pd.read_csv(sub_data_path)\n",
    "test = pd.read_csv(sub_data_path)\n",
    "\n",
    "print(f'train data dim : {data.shape}')\n",
    "print(f'sub data dim : {sub.shape}')"
   ]
  },
  {
   "cell_type": "code",
   "execution_count": 19,
   "id": "5162c380",
   "metadata": {},
   "outputs": [],
   "source": [
    "y = data['price']\n",
    "del data['price']\n"
   ]
  },
  {
   "cell_type": "code",
   "execution_count": 20,
   "id": "24f34095",
   "metadata": {},
   "outputs": [],
   "source": [
    "train_len = len(data)\n",
    "data = pd.concat((data, sub), axis=0)   # 한번에 작업하기 위해 data sub 병합"
   ]
  },
  {
   "cell_type": "code",
   "execution_count": 21,
   "id": "570de544",
   "metadata": {},
   "outputs": [
    {
     "name": "stdout",
     "output_type": "stream",
     "text": [
      "<class 'pandas.core.frame.DataFrame'>\n",
      "Int64Index: 21503 entries, 0 to 6467\n",
      "Data columns (total 20 columns):\n",
      " #   Column         Non-Null Count  Dtype  \n",
      "---  ------         --------------  -----  \n",
      " 0   id             21503 non-null  int64  \n",
      " 1   date           21503 non-null  object \n",
      " 2   bedrooms       21503 non-null  int64  \n",
      " 3   bathrooms      21503 non-null  float64\n",
      " 4   sqft_living    21503 non-null  int64  \n",
      " 5   sqft_lot       21503 non-null  int64  \n",
      " 6   floors         21503 non-null  float64\n",
      " 7   waterfront     21503 non-null  int64  \n",
      " 8   view           21503 non-null  int64  \n",
      " 9   condition      21503 non-null  int64  \n",
      " 10  grade          21503 non-null  int64  \n",
      " 11  sqft_above     21503 non-null  int64  \n",
      " 12  sqft_basement  21503 non-null  int64  \n",
      " 13  yr_built       21503 non-null  int64  \n",
      " 14  yr_renovated   21503 non-null  int64  \n",
      " 15  zipcode        21503 non-null  int64  \n",
      " 16  lat            21503 non-null  float64\n",
      " 17  long           21503 non-null  float64\n",
      " 18  sqft_living15  21503 non-null  int64  \n",
      " 19  sqft_lot15     21503 non-null  int64  \n",
      "dtypes: float64(4), int64(15), object(1)\n",
      "memory usage: 3.4+ MB\n"
     ]
    }
   ],
   "source": [
    "data.info()"
   ]
  },
  {
   "cell_type": "code",
   "execution_count": 22,
   "id": "1a280798",
   "metadata": {},
   "outputs": [],
   "source": [
    "sub_id = data['id'][train_len:]\n",
    "del data['id']"
   ]
  },
  {
   "cell_type": "code",
   "execution_count": 23,
   "id": "9705348a",
   "metadata": {
    "scrolled": false
   },
   "outputs": [
    {
     "data": {
      "text/html": [
       "<div>\n",
       "<style scoped>\n",
       "    .dataframe tbody tr th:only-of-type {\n",
       "        vertical-align: middle;\n",
       "    }\n",
       "\n",
       "    .dataframe tbody tr th {\n",
       "        vertical-align: top;\n",
       "    }\n",
       "\n",
       "    .dataframe thead th {\n",
       "        text-align: right;\n",
       "    }\n",
       "</style>\n",
       "<table border=\"1\" class=\"dataframe\">\n",
       "  <thead>\n",
       "    <tr style=\"text-align: right;\">\n",
       "      <th></th>\n",
       "      <th>date</th>\n",
       "      <th>bedrooms</th>\n",
       "      <th>bathrooms</th>\n",
       "      <th>sqft_living</th>\n",
       "      <th>sqft_lot</th>\n",
       "      <th>floors</th>\n",
       "      <th>waterfront</th>\n",
       "      <th>view</th>\n",
       "      <th>condition</th>\n",
       "      <th>grade</th>\n",
       "      <th>sqft_above</th>\n",
       "      <th>sqft_basement</th>\n",
       "      <th>yr_built</th>\n",
       "      <th>yr_renovated</th>\n",
       "      <th>zipcode</th>\n",
       "      <th>lat</th>\n",
       "      <th>long</th>\n",
       "      <th>sqft_living15</th>\n",
       "      <th>sqft_lot15</th>\n",
       "    </tr>\n",
       "  </thead>\n",
       "  <tbody>\n",
       "    <tr>\n",
       "      <th>0</th>\n",
       "      <td>201410</td>\n",
       "      <td>3</td>\n",
       "      <td>1.00</td>\n",
       "      <td>1180</td>\n",
       "      <td>5650</td>\n",
       "      <td>1.0</td>\n",
       "      <td>0</td>\n",
       "      <td>0</td>\n",
       "      <td>3</td>\n",
       "      <td>7</td>\n",
       "      <td>1180</td>\n",
       "      <td>0</td>\n",
       "      <td>1955</td>\n",
       "      <td>0</td>\n",
       "      <td>98178</td>\n",
       "      <td>47.5112</td>\n",
       "      <td>-122.257</td>\n",
       "      <td>1340</td>\n",
       "      <td>5650</td>\n",
       "    </tr>\n",
       "    <tr>\n",
       "      <th>1</th>\n",
       "      <td>201502</td>\n",
       "      <td>2</td>\n",
       "      <td>1.00</td>\n",
       "      <td>770</td>\n",
       "      <td>10000</td>\n",
       "      <td>1.0</td>\n",
       "      <td>0</td>\n",
       "      <td>0</td>\n",
       "      <td>3</td>\n",
       "      <td>6</td>\n",
       "      <td>770</td>\n",
       "      <td>0</td>\n",
       "      <td>1933</td>\n",
       "      <td>0</td>\n",
       "      <td>98028</td>\n",
       "      <td>47.7379</td>\n",
       "      <td>-122.233</td>\n",
       "      <td>2720</td>\n",
       "      <td>8062</td>\n",
       "    </tr>\n",
       "    <tr>\n",
       "      <th>2</th>\n",
       "      <td>201502</td>\n",
       "      <td>3</td>\n",
       "      <td>2.00</td>\n",
       "      <td>1680</td>\n",
       "      <td>8080</td>\n",
       "      <td>1.0</td>\n",
       "      <td>0</td>\n",
       "      <td>0</td>\n",
       "      <td>3</td>\n",
       "      <td>8</td>\n",
       "      <td>1680</td>\n",
       "      <td>0</td>\n",
       "      <td>1987</td>\n",
       "      <td>0</td>\n",
       "      <td>98074</td>\n",
       "      <td>47.6168</td>\n",
       "      <td>-122.045</td>\n",
       "      <td>1800</td>\n",
       "      <td>7503</td>\n",
       "    </tr>\n",
       "    <tr>\n",
       "      <th>3</th>\n",
       "      <td>201406</td>\n",
       "      <td>3</td>\n",
       "      <td>2.25</td>\n",
       "      <td>1715</td>\n",
       "      <td>6819</td>\n",
       "      <td>2.0</td>\n",
       "      <td>0</td>\n",
       "      <td>0</td>\n",
       "      <td>3</td>\n",
       "      <td>7</td>\n",
       "      <td>1715</td>\n",
       "      <td>0</td>\n",
       "      <td>1995</td>\n",
       "      <td>0</td>\n",
       "      <td>98003</td>\n",
       "      <td>47.3097</td>\n",
       "      <td>-122.327</td>\n",
       "      <td>2238</td>\n",
       "      <td>6819</td>\n",
       "    </tr>\n",
       "    <tr>\n",
       "      <th>4</th>\n",
       "      <td>201501</td>\n",
       "      <td>3</td>\n",
       "      <td>1.50</td>\n",
       "      <td>1060</td>\n",
       "      <td>9711</td>\n",
       "      <td>1.0</td>\n",
       "      <td>0</td>\n",
       "      <td>0</td>\n",
       "      <td>3</td>\n",
       "      <td>7</td>\n",
       "      <td>1060</td>\n",
       "      <td>0</td>\n",
       "      <td>1963</td>\n",
       "      <td>0</td>\n",
       "      <td>98198</td>\n",
       "      <td>47.4095</td>\n",
       "      <td>-122.315</td>\n",
       "      <td>1650</td>\n",
       "      <td>9711</td>\n",
       "    </tr>\n",
       "  </tbody>\n",
       "</table>\n",
       "</div>"
      ],
      "text/plain": [
       "     date  bedrooms  bathrooms  sqft_living  sqft_lot  floors  waterfront  \\\n",
       "0  201410         3       1.00         1180      5650     1.0           0   \n",
       "1  201502         2       1.00          770     10000     1.0           0   \n",
       "2  201502         3       2.00         1680      8080     1.0           0   \n",
       "3  201406         3       2.25         1715      6819     2.0           0   \n",
       "4  201501         3       1.50         1060      9711     1.0           0   \n",
       "\n",
       "   view  condition  grade  sqft_above  sqft_basement  yr_built  yr_renovated  \\\n",
       "0     0          3      7        1180              0      1955             0   \n",
       "1     0          3      6         770              0      1933             0   \n",
       "2     0          3      8        1680              0      1987             0   \n",
       "3     0          3      7        1715              0      1995             0   \n",
       "4     0          3      7        1060              0      1963             0   \n",
       "\n",
       "   zipcode      lat     long  sqft_living15  sqft_lot15  \n",
       "0    98178  47.5112 -122.257           1340        5650  \n",
       "1    98028  47.7379 -122.233           2720        8062  \n",
       "2    98074  47.6168 -122.045           1800        7503  \n",
       "3    98003  47.3097 -122.327           2238        6819  \n",
       "4    98198  47.4095 -122.315           1650        9711  "
      ]
     },
     "execution_count": 23,
     "metadata": {},
     "output_type": "execute_result"
    }
   ],
   "source": [
    "data['date'] = data['date'].apply(lambda x : str(x[:6])).astype(int)\n",
    "data.head()\n",
    "\n",
    "# 기타 로그변환 전처리는 값 자체의 스케일링 작업이므로 적용하지않음"
   ]
  },
  {
   "cell_type": "code",
   "execution_count": 24,
   "id": "d6972e88",
   "metadata": {},
   "outputs": [
    {
     "name": "stdout",
     "output_type": "stream",
     "text": [
      "(21503, 19)\n",
      "(6468, 19)\n"
     ]
    }
   ],
   "source": [
    "sub = data.iloc[train_len:, :]\n",
    "x = data.iloc[:train_len, :]\n",
    "print(data.shape)\n",
    "print(sub.shape)"
   ]
  },
  {
   "cell_type": "code",
   "execution_count": 25,
   "id": "ba5c80e4",
   "metadata": {},
   "outputs": [
    {
     "data": {
      "text/plain": [
       "\"\\n#gboost, xgboost, lightgbm\\ngboost = GradientBoostingRegressor(random_state=2023)\\nparam_grid_g = {\\n    \\n    'n_estimators': [1000,2000,4000], # 트리 갯수\\n    'max_depth': [5], # 트리 최대 깊이\\n}\\ngrid_g = GridSearchCV(gboost, param_grid=param_grid_g,                         scoring='neg_root_mean_squared_error',                         cv=5, verbose=1, n_jobs=5)\\ngrid_g.fit(x, y)\\n\""
      ]
     },
     "execution_count": 25,
     "metadata": {},
     "output_type": "execute_result"
    }
   ],
   "source": [
    "'''\n",
    "#gboost, xgboost, lightgbm\n",
    "gboost = GradientBoostingRegressor(random_state=2023)\n",
    "param_grid_g = {\n",
    "    \n",
    "    'n_estimators': [1000,2000,4000], # 트리 갯수\n",
    "    'max_depth': [5], # 트리 최대 깊이\n",
    "}\n",
    "grid_g = GridSearchCV(gboost, param_grid=param_grid_g, \\\n",
    "                        scoring='neg_root_mean_squared_error', \\\n",
    "                        cv=5, verbose=1, n_jobs=5)\n",
    "grid_g.fit(x, y)\n",
    "'''"
   ]
  },
  {
   "cell_type": "code",
   "execution_count": 26,
   "id": "bd964dfb",
   "metadata": {},
   "outputs": [
    {
     "data": {
      "text/plain": [
       "\"params = grid_g.cv_results_['params']\\nparams\\n\\nscore = grid_g.cv_results_['mean_test_score'] #캐글내 점수인 RMSE 출력\\nscore\\n\\nresults = pd.DataFrame(params)\\nresults['score'] = score\\nresults\""
      ]
     },
     "execution_count": 26,
     "metadata": {},
     "output_type": "execute_result"
    }
   ],
   "source": [
    "'''params = grid_g.cv_results_['params']\n",
    "params\n",
    "\n",
    "score = grid_g.cv_results_['mean_test_score'] #캐글내 점수인 RMSE 출력\n",
    "score\n",
    "\n",
    "results = pd.DataFrame(params)\n",
    "results['score'] = score\n",
    "results'''"
   ]
  },
  {
   "attachments": {
    "image-2.png": {
     "image/png": "[encoded data removed]"
    },
    "image.png": {
     "image/png": "[encoded data removed]"
    }
   },
   "cell_type": "markdown",
   "id": "adeb3486",
   "metadata": {},
   "source": [
    "* n_estimators 고정일때 max_depth = 3,5,7의 앞자리 126,121,126 로 5에서 가장 최적\n",
    "* max_depth 5로 고정 후 n_estimators 조절\n",
    "* n_estimators가 커짐에 따라 감소\n",
    "* lgbm에 비해 무거워서 상대적으로 가벼운 lgbm으로 최적화 실행\n",
    "\n",
    "\n",
    "![image.png](attachment:image.png)\n",
    "\n",
    "![image-2.png](attachment:image-2.png)"
   ]
  },
  {
   "cell_type": "code",
   "execution_count": 27,
   "id": "7e79c21b",
   "metadata": {},
   "outputs": [
    {
     "data": {
      "text/plain": [
       "\"rdforest = RandomForestRegressor(random_state=2023)\\n\\nparam_grid_r = {\\n    'n_estimators': [100, 200],\\n    'max_depth': [10, 20, 50],\\n}\\ngrid_r = GridSearchCV(rdforest, param_grid=param_grid_r,                         scoring='neg_root_mean_squared_error',                         cv=5, verbose=1, n_jobs=5)\\ngrid_r.fit(x, y)\\n\\nparams = grid_r.cv_results_['params']\\nparams\\n\""
      ]
     },
     "execution_count": 27,
     "metadata": {},
     "output_type": "execute_result"
    }
   ],
   "source": [
    "'''rdforest = RandomForestRegressor(random_state=2023)\n",
    "\n",
    "param_grid_r = {\n",
    "    'n_estimators': [100, 200],\n",
    "    'max_depth': [10, 20, 50],\n",
    "}\n",
    "grid_r = GridSearchCV(rdforest, param_grid=param_grid_r, \\\n",
    "                        scoring='neg_root_mean_squared_error', \\\n",
    "                        cv=5, verbose=1, n_jobs=5)\n",
    "grid_r.fit(x, y)\n",
    "\n",
    "params = grid_r.cv_results_['params']\n",
    "params\n",
    "'''"
   ]
  },
  {
   "cell_type": "code",
   "execution_count": 28,
   "id": "e5343ad3",
   "metadata": {},
   "outputs": [
    {
     "data": {
      "text/plain": [
       "\"score = grid_r.cv_results_['mean_test_score']\\nscore\\n\\nresults = pd.DataFrame(params)\\nresults['score'] = score\\nresults\""
      ]
     },
     "execution_count": 28,
     "metadata": {},
     "output_type": "execute_result"
    }
   ],
   "source": [
    "'''score = grid_r.cv_results_['mean_test_score']\n",
    "score\n",
    "\n",
    "results = pd.DataFrame(params)\n",
    "results['score'] = score\n",
    "results'''"
   ]
  },
  {
   "attachments": {
    "image-2.png": {
     "image/png": "[encoded data removed]"
    },
    "image.png": {
     "image/png": "[encoded data removed]"
    }
   },
   "cell_type": "markdown",
   "id": "6eb19d7b",
   "metadata": {},
   "source": [
    "* m, n_e 증가함에 따라 점수 개선\n",
    "* m, n_E를 증가시켰으나, 점수가 12만 근처로 개선되지 않음 탈락\n",
    "\n",
    "![image.png](attachment:image.png)\n",
    "\n",
    "![image-2.png](attachment:image-2.png)"
   ]
  },
  {
   "cell_type": "code",
   "execution_count": 30,
   "id": "9d67492a",
   "metadata": {
    "scrolled": true
   },
   "outputs": [
    {
     "name": "stdout",
     "output_type": "stream",
     "text": [
      "Fitting 5 folds for each of 1 candidates, totalling 5 fits\n",
      "[LightGBM] [Warning] feature_fraction is set=0.75, colsample_bytree=1.0 will be ignored. Current value: feature_fraction=0.75\n"
     ]
    },
    {
     "data": {
      "text/plain": [
       "[{'feature_fraction': 0.75,\n",
       "  'learning_rate': 0.05,\n",
       "  'max_depth': 5,\n",
       "  'n_estimators': 2000,\n",
       "  'num_leaves': 17}]"
      ]
     },
     "execution_count": 30,
     "metadata": {},
     "output_type": "execute_result"
    }
   ],
   "source": [
    "lightgbm = lgb.LGBMRegressor(random_state=2023)\n",
    "\n",
    "param_grid_l = {\n",
    "    'n_estimators': [2000], # 트리 갯수\n",
    "    'max_depth': [5], # 트리 깊이\n",
    "    'learning_rate': [0.05], # 학습률\n",
    "    'num_leaves' : [17], # 트리의 리프 갯수\n",
    "    'feature_fraction': [0.75] # 개별 트리 학습시 선택하는 피쳐비율\n",
    "\n",
    "} \n",
    "grid_l = GridSearchCV(lightgbm, param_grid=param_grid_l, \\\n",
    "                        scoring='neg_root_mean_squared_error', \\\n",
    "                        cv=5, verbose=1, n_jobs=5)\n",
    "grid_l.fit(x, y)\n",
    "\n",
    "params = grid_l.cv_results_['params']\n",
    "params"
   ]
  },
  {
   "cell_type": "code",
   "execution_count": 31,
   "id": "629dcad0",
   "metadata": {
    "scrolled": false
   },
   "outputs": [
    {
     "data": {
      "text/html": [
       "<div>\n",
       "<style scoped>\n",
       "    .dataframe tbody tr th:only-of-type {\n",
       "        vertical-align: middle;\n",
       "    }\n",
       "\n",
       "    .dataframe tbody tr th {\n",
       "        vertical-align: top;\n",
       "    }\n",
       "\n",
       "    .dataframe thead th {\n",
       "        text-align: right;\n",
       "    }\n",
       "</style>\n",
       "<table border=\"1\" class=\"dataframe\">\n",
       "  <thead>\n",
       "    <tr style=\"text-align: right;\">\n",
       "      <th></th>\n",
       "      <th>feature_fraction</th>\n",
       "      <th>learning_rate</th>\n",
       "      <th>max_depth</th>\n",
       "      <th>n_estimators</th>\n",
       "      <th>num_leaves</th>\n",
       "      <th>score</th>\n",
       "    </tr>\n",
       "  </thead>\n",
       "  <tbody>\n",
       "    <tr>\n",
       "      <th>0</th>\n",
       "      <td>0.75</td>\n",
       "      <td>0.05</td>\n",
       "      <td>5</td>\n",
       "      <td>2000</td>\n",
       "      <td>17</td>\n",
       "      <td>-120800.529716</td>\n",
       "    </tr>\n",
       "  </tbody>\n",
       "</table>\n",
       "</div>"
      ],
      "text/plain": [
       "   feature_fraction  learning_rate  max_depth  n_estimators  num_leaves  \\\n",
       "0              0.75           0.05          5          2000          17   \n",
       "\n",
       "           score  \n",
       "0 -120800.529716  "
      ]
     },
     "execution_count": 31,
     "metadata": {},
     "output_type": "execute_result"
    }
   ],
   "source": [
    "score = grid_l.cv_results_['mean_test_score']\n",
    "score\n",
    "\n",
    "results = pd.DataFrame(params)\n",
    "results['score'] = score\n",
    "results"
   ]
  },
  {
   "attachments": {
    "image-10.png": {
     "image/png": "[encoded data removed]"
    },
    "image-2.png": {
     "image/png": "[encoded data removed]"
    },
    "image-3.png": {
     "image/png": "[encoded data removed]"
    },
    "image-4.png": {
     "image/png": "[encoded data removed]"
    },
    "image-5.png": {
     "image/png": "[encoded data removed]"
    },
    "image-6.png": {
     "image/png": "[encoded data removed]"
    },
    "image-7.png": {
     "image/png": "[encoded data removed]"
    },
    "image-8.png": {
     "image/png": "[encoded data removed]"
    },
    "image-9.png": {
     "image/png": "[encoded data removed]"
    }
   },
   "cell_type": "markdown",
   "id": "1f2dc28a",
   "metadata": {},
   "source": [
    "* m이 3일때 점수가 낮음 -- 제외\n",
    "* n_e가 커질수록 점수 개선\n",
    "* n_e가 커질때 m이 5일때가 가장 점수 최적 -- m은 5로 Fix\n",
    "* n_e가 커지면 점수 개선\n",
    "\n",
    "\n",
    "![image-2.png](attachment:image-2.png)\n",
    "\n",
    "![image-3.png](attachment:image-3.png)\n",
    "\n",
    "* n_e가 1000보다 증가하면 다시 점수 악화\n",
    "\n",
    "![image-4.png](attachment:image-4.png)\n",
    "\n",
    "* lr을 줄인결과 n_e를 증가해도 점수가 상승한다\n",
    "\n",
    "![image-5.png](attachment:image-5.png)\n",
    "\n",
    "* lr = 0.01땐 n_e가 클수록 점수 개선되나 0.05일땐 n_e = 2000 일때 최적\n",
    "* n_e를 너무 늘리면 학습시간이 오래걸리므로 lr=0.05, n_e = 2000으로 고정\n",
    "\n",
    "![image-6.png](attachment:image-6.png)\n",
    "\n",
    "* num_leaves 가 15 근처에서 최적  // 17에서 최적\n",
    "\n",
    "![image-7.png](attachment:image-7.png)\n",
    "![image-8.png](attachment:image-8.png)\n",
    "\n",
    "* feature_fraction 튜닝, 각 트리에서 0.75씩 추출할때 최적 \n",
    "* bagging_fractio 튜닝은 점수에 변화 없음\n",
    "\n",
    "![image-9.png](attachment:image-9.png)\n",
    "\n",
    "* lr = 0.02 e_n 8000일때 최적\n",
    "\n",
    "![image-10.png](attachment:image-10.png)\n"
   ]
  },
  {
   "cell_type": "code",
   "execution_count": 47,
   "id": "6ec71e43",
   "metadata": {
    "scrolled": true
   },
   "outputs": [
    {
     "data": {
      "text/plain": [
       "LGBMRegressor(learning_rate=0.05, max_depth=5, n_estimators=2000, num_leaves=17,\n",
       "              random_state=2023)"
      ]
     },
     "execution_count": 47,
     "metadata": {},
     "output_type": "execute_result"
    }
   ],
   "source": [
    "lightgbm = lgb.LGBMRegressor(random_state=2023, # 올해는 2023년!\n",
    "     n_estimators=2000, # 트리 갯수\n",
    "     max_depth=5, # 트리 깊이\n",
    "     learning_rate=0.05, # 학습률\n",
    "     num_leaves=17 # 트리의 리프 갯수\n",
    "                            )\n",
    "lightgbm.fit(x,y)"
   ]
  },
  {
   "cell_type": "code",
   "execution_count": 48,
   "id": "b1ccbc1c",
   "metadata": {},
   "outputs": [],
   "source": [
    "y_pred_best1= lightgbm.predict(sub.values) # 모델 예측값 출력"
   ]
  },
  {
   "cell_type": "code",
   "execution_count": 49,
   "id": "74a1053a",
   "metadata": {},
   "outputs": [
    {
     "name": "stdout",
     "output_type": "stream",
     "text": [
      "/aiffel/aiffel/kaggle_kakr_housing/data/Aiffel_ex4_best2.csv\n"
     ]
    }
   ],
   "source": [
    "result = pd.DataFrame({  # 저장\n",
    "    'id' : sub_id, \n",
    "    'price' : y_pred_best1\n",
    "})\n",
    "\n",
    "result.head()\n",
    "\n",
    "my_submission_path = join(data_dir, 'Aiffel_ex4_best2.csv')\n",
    "result.to_csv(my_submission_path, index=False)\n",
    "print(my_submission_path)"
   ]
  },
  {
   "cell_type": "code",
   "execution_count": null,
   "id": "e0ce61c5",
   "metadata": {},
   "outputs": [],
   "source": []
  }
 ],
 "metadata": {
  "kernelspec": {
   "display_name": "Python 3 (ipykernel)",
   "language": "python",
   "name": "python3"
  },
  "language_info": {
   "codemirror_mode": {
    "name": "ipython",
    "version": 3
   },
   "file_extension": ".py",
   "mimetype": "text/x-python",
   "name": "python",
   "nbconvert_exporter": "python",
   "pygments_lexer": "ipython3",
   "version": "3.9.7"
  }
 },
 "nbformat": 4,
 "nbformat_minor": 5
}
