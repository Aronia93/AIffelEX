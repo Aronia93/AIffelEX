{
 "cells": [
  {
   "cell_type": "markdown",
   "id": "50c534f4",
   "metadata": {},
   "source": [
    "## 루브릭\n",
    "\n",
    "1. 다양한 방법으로 Text Classification 태스크를 성공적으로 구현하였다.\t\n",
    "- 3가지 이상의 모델이 성공적으로 시도됨\n",
    "2. gensim을 활용하여 자체학습된 혹은 사전학습된 임베딩 레이어를 분석하였다.\t\n",
    "- gensim의 유사단어 찾기를 활용하여 자체학습한 임베딩과 사전학습 임베딩을 비교 분석함\n",
    "3. 한국어 Word2Vec을 활용하여 가시적인 성능향상을 달성했다.\t\n",
    "- 네이버 영화리뷰 데이터 감성분석 정확도를 85% 이상 달성함"
   ]
  },
  {
   "cell_type": "code",
   "execution_count": 5,
   "id": "4eb2df39",
   "metadata": {},
   "outputs": [
    {
     "name": "stdout",
     "output_type": "stream",
     "text": [
      "1.3.3\n",
      "0.5.2\n",
      "4.1.2\n"
     ]
    }
   ],
   "source": [
    "import pandas\n",
    "import konlpy\n",
    "import gensim\n",
    "import numpy as np\n",
    "import tensorflow as tf\n",
    "import os\n",
    "from konlpy.tag import Mecab\n",
    "import numpy as np\n",
    "from collections import Counter\n",
    "import matplotlib.pyplot as plt\n",
    "\n",
    "\n",
    "print(pandas.__version__)\n",
    "print(konlpy.__version__)\n",
    "print(gensim.__version__)"
   ]
  },
  {
   "cell_type": "code",
   "execution_count": 6,
   "id": "c66cd2ef",
   "metadata": {},
   "outputs": [
    {
     "name": "stdout",
     "output_type": "stream",
     "text": [
      "(150000, 3)\n"
     ]
    },
    {
     "data": {
      "text/html": [
       "<div>\n",
       "<style scoped>\n",
       "    .dataframe tbody tr th:only-of-type {\n",
       "        vertical-align: middle;\n",
       "    }\n",
       "\n",
       "    .dataframe tbody tr th {\n",
       "        vertical-align: top;\n",
       "    }\n",
       "\n",
       "    .dataframe thead th {\n",
       "        text-align: right;\n",
       "    }\n",
       "</style>\n",
       "<table border=\"1\" class=\"dataframe\">\n",
       "  <thead>\n",
       "    <tr style=\"text-align: right;\">\n",
       "      <th></th>\n",
       "      <th>id</th>\n",
       "      <th>document</th>\n",
       "      <th>label</th>\n",
       "    </tr>\n",
       "  </thead>\n",
       "  <tbody>\n",
       "    <tr>\n",
       "      <th>0</th>\n",
       "      <td>9976970</td>\n",
       "      <td>아 더빙.. 진짜 짜증나네요 목소리</td>\n",
       "      <td>0</td>\n",
       "    </tr>\n",
       "    <tr>\n",
       "      <th>1</th>\n",
       "      <td>3819312</td>\n",
       "      <td>흠...포스터보고 초딩영화줄....오버연기조차 가볍지 않구나</td>\n",
       "      <td>1</td>\n",
       "    </tr>\n",
       "    <tr>\n",
       "      <th>2</th>\n",
       "      <td>10265843</td>\n",
       "      <td>너무재밓었다그래서보는것을추천한다</td>\n",
       "      <td>0</td>\n",
       "    </tr>\n",
       "    <tr>\n",
       "      <th>3</th>\n",
       "      <td>9045019</td>\n",
       "      <td>교도소 이야기구먼 ..솔직히 재미는 없다..평점 조정</td>\n",
       "      <td>0</td>\n",
       "    </tr>\n",
       "    <tr>\n",
       "      <th>4</th>\n",
       "      <td>6483659</td>\n",
       "      <td>사이몬페그의 익살스런 연기가 돋보였던 영화!스파이더맨에서 늙어보이기만 했던 커스틴 ...</td>\n",
       "      <td>1</td>\n",
       "    </tr>\n",
       "  </tbody>\n",
       "</table>\n",
       "</div>"
      ],
      "text/plain": [
       "         id                                           document  label\n",
       "0   9976970                                아 더빙.. 진짜 짜증나네요 목소리      0\n",
       "1   3819312                  흠...포스터보고 초딩영화줄....오버연기조차 가볍지 않구나      1\n",
       "2  10265843                                  너무재밓었다그래서보는것을추천한다      0\n",
       "3   9045019                      교도소 이야기구먼 ..솔직히 재미는 없다..평점 조정      0\n",
       "4   6483659  사이몬페그의 익살스런 연기가 돋보였던 영화!스파이더맨에서 늙어보이기만 했던 커스틴 ...      1"
      ]
     },
     "execution_count": 6,
     "metadata": {},
     "output_type": "execute_result"
    }
   ],
   "source": [
    "import pandas as pd\n",
    "\n",
    "# 데이터를 읽어봅시다. \n",
    "train_data = pd.read_table('~/aiffel/sentiment_classification/data/ratings_train.txt')\n",
    "test_data = pd.read_table('~/aiffel/sentiment_classification/data/ratings_test.txt')\n",
    "print(train_data.shape) #(150000, 3)\n",
    "train_data.head()"
   ]
  },
  {
   "cell_type": "markdown",
   "id": "6f851038",
   "metadata": {},
   "source": [
    "## 데이터로더 구성\n",
    "\n",
    "- 데이터의 중복 제거\n",
    "- NaN 결측치 제거\n",
    "- 한국어 토크나이저로 토큰화\n",
    "- 불용어(Stopwords) 제거\n",
    "- 사전word_to_index 구성\n",
    "- 텍스트 스트링을 사전 인덱스 스트링으로 변환\n",
    "- X_train, y_train, X_test, y_test, word_to_index 리턴"
   ]
  },
  {
   "cell_type": "code",
   "execution_count": 7,
   "id": "8b9cabee",
   "metadata": {
    "scrolled": true
   },
   "outputs": [
    {
     "name": "stdout",
     "output_type": "stream",
     "text": [
      "<class 'pandas.core.frame.DataFrame'>\n",
      "RangeIndex: 150000 entries, 0 to 149999\n",
      "Data columns (total 3 columns):\n",
      " #   Column    Non-Null Count   Dtype \n",
      "---  ------    --------------   ----- \n",
      " 0   id        150000 non-null  int64 \n",
      " 1   document  149995 non-null  object\n",
      " 2   label     150000 non-null  int64 \n",
      "dtypes: int64(2), object(1)\n",
      "memory usage: 3.4+ MB\n"
     ]
    }
   ],
   "source": [
    "train_data.info() # 결측치 확인"
   ]
  },
  {
   "cell_type": "code",
   "execution_count": 8,
   "id": "7dadcaba",
   "metadata": {},
   "outputs": [],
   "source": [
    "# 토크나이저로 토큰화\n",
    "# 불용어 제거 등\n",
    "\n",
    "tokenizer = Mecab()\n",
    "stopwords = ['의','가','이','은','들','는','좀','잘','걍','과','도','를','으로','자','에','와','한','하다']\n",
    "\n",
    "def load_data(train_data, test_data, num_words=10000):\n",
    "    train_data.drop_duplicates(subset=['document'], inplace=True) # 중복행 제거\n",
    "    train_data = train_data.dropna(how = 'any') # 한값이라도 NA이면 해당 행 제거\n",
    "    test_data.drop_duplicates(subset=['document'], inplace=True) # 중복행 제거\n",
    "    test_data = test_data.dropna(how = 'any') # 한값이라도 NA이면 해당 행 제거\n",
    "    \n",
    "    X_train = []\n",
    "    for sentence in train_data['document']:\n",
    "        temp_X = tokenizer.morphs(sentence) # 토큰화\n",
    "        temp_X = [word for word in temp_X if not word in stopwords] # 불용어 제거\n",
    "        X_train.append(temp_X)\n",
    "\n",
    "    X_test = []\n",
    "    for sentence in test_data['document']:\n",
    "        temp_X = tokenizer.morphs(sentence) # 토큰화\n",
    "        temp_X = [word for word in temp_X if not word in stopwords] # 불용어 제거\n",
    "        X_test.append(temp_X)\n",
    "    \n",
    "    words = np.concatenate(X_train).tolist()   #tolist() 함수는 같은 위치의 데이터를 묶어준다\n",
    "    counter = Counter(words)\n",
    "    counter = counter.most_common(10000-4)\n",
    "    vocab = ['<PAD>', '<BOS>', '<UNK>', '<UNUSED>'] + [key for key, _ in counter]\n",
    "    word_to_index = {word:index for index, word in enumerate(vocab)}\n",
    "        \n",
    "    def wordlist_to_indexlist(wordlist):\n",
    "        return [word_to_index[word] if word in word_to_index \\\n",
    "                else word_to_index['<UNK>'] for word in wordlist]\n",
    "        \n",
    "    X_train = list(map(wordlist_to_indexlist, X_train))\n",
    "    X_test = list(map(wordlist_to_indexlist, X_test))\n",
    "        \n",
    "    return X_train, np.array(list(train_data['label'])), \\\n",
    "            X_test, np.array(list(test_data['label'])),word_to_index\n",
    "    \n",
    "x_train, y_train, x_test, y_test, word_to_index = load_data(train_data, test_data)\n",
    "index_to_word = {index:word for word, index in word_to_index.items()}"
   ]
  },
  {
   "cell_type": "code",
   "execution_count": 9,
   "id": "80b6f787",
   "metadata": {},
   "outputs": [
    {
     "name": "stdout",
     "output_type": "stream",
     "text": [
      "146182\n"
     ]
    }
   ],
   "source": [
    "print(len(x_train))"
   ]
  },
  {
   "cell_type": "code",
   "execution_count": 10,
   "id": "c8cfd5d1",
   "metadata": {},
   "outputs": [],
   "source": [
    "index_to_word = {index:word for word, index in word_to_index.items()}"
   ]
  },
  {
   "cell_type": "code",
   "execution_count": 11,
   "id": "4bbd31ec",
   "metadata": {},
   "outputs": [],
   "source": [
    "# 문장 1개를 활용할 딕셔너리와 함께 주면, 단어 인덱스 리스트 벡터로 변환해 주는 함수입니다. \n",
    "# 단, 모든 문장은 <BOS>로 시작하는 것으로 합니다. \n",
    "def get_encoded_sentence(sentence, word_to_index):\n",
    "    return [word_to_index['<BOS>']]+[word_to_index[word] if word in word_to_index else word_to_index['<UNK>'] for word in sentence.split()]\n",
    "\n",
    "# 여러 개의 문장 리스트를 한꺼번에 단어 인덱스 리스트 벡터로 encode해 주는 함수입니다. \n",
    "def get_encoded_sentences(sentences, word_to_index):\n",
    "    return [get_encoded_sentence(sentence, word_to_index) for sentence in sentences]\n",
    "\n",
    "# 숫자 벡터로 encode된 문장을 원래대로 decode하는 함수입니다. \n",
    "def get_decoded_sentence(encoded_sentence, index_to_word):\n",
    "    return ' '.join(index_to_word[index] if index in index_to_word else '<UNK>' for index in encoded_sentence[1:])  #[1:]를 통해 <BOS>를 제외\n",
    "\n",
    "# 여러 개의 숫자 벡터로 encode된 문장을 한꺼번에 원래대로 decode하는 함수입니다. \n",
    "def get_decoded_sentences(encoded_sentences, index_to_word):\n",
    "    return [get_decoded_sentence(encoded_sentence, index_to_word) for encoded_sentence in encoded_sentences]"
   ]
  },
  {
   "cell_type": "markdown",
   "id": "3e7b8339",
   "metadata": {},
   "source": [
    "## 모델 구성을 위핸 데이터 분석 및 가공\n",
    "\n",
    "- 데이터셋 내 문장 길이 분포\n",
    "- 적절한 최대 문장 길이 지정\n",
    "- keras.preprocessing.sequence.pad_sequences 을 활용한 패딩 추가"
   ]
  },
  {
   "cell_type": "code",
   "execution_count": 12,
   "id": "b5c44e6c",
   "metadata": {},
   "outputs": [
    {
     "name": "stdout",
     "output_type": "stream",
     "text": [
      "문장길이 평균 :  15.96940191154864\n",
      "문장길이 최대 :  116\n",
      "문장길이 표준편차 :  12.843571191092\n",
      "pad_sequences maxlen :  41\n",
      "전체 문장의 0.9342988343341575%가 maxlen 설정값 이내에 포함됩니다. \n"
     ]
    }
   ],
   "source": [
    "total_data_text = list(x_train) + list(x_test)\n",
    "# 텍스트데이터 문장길이의 리스트를 생성한 후\n",
    "num_tokens = [len(tokens) for tokens in total_data_text]\n",
    "num_tokens = np.array(num_tokens)\n",
    "# 문장길이의 평균값, 최대값, 표준편차를 계산해 본다. \n",
    "print('문장길이 평균 : ', np.mean(num_tokens))\n",
    "print('문장길이 최대 : ', np.max(num_tokens))\n",
    "print('문장길이 표준편차 : ', np.std(num_tokens))\n",
    "\n",
    "# 예를들어, 최대 길이를 (평균 + 2*표준편차)로 한다면,  \n",
    "max_tokens = np.mean(num_tokens) + 2 * np.std(num_tokens)\n",
    "maxlen = int(max_tokens)\n",
    "print('pad_sequences maxlen : ', maxlen)\n",
    "print(f'전체 문장의 \\\n",
    "{np.sum(num_tokens < max_tokens) / len(num_tokens)}%가 \\\n",
    "maxlen 설정값 이내에 포함됩니다. ')"
   ]
  },
  {
   "cell_type": "code",
   "execution_count": 13,
   "id": "2bc3c4bd",
   "metadata": {},
   "outputs": [
    {
     "name": "stdout",
     "output_type": "stream",
     "text": [
      "(146182, 41)\n"
     ]
    }
   ],
   "source": [
    "# 패딩방식은 pre(앞쪽에 패딩) 로 설정 순차학습이므로 post가 더 유리하다\n",
    "x_train = tf.keras.preprocessing.sequence.pad_sequences(x_train,\n",
    "                                                        value=word_to_index[\"<PAD>\"],\n",
    "                                                        padding='pre',\n",
    "                                                        maxlen=maxlen)\n",
    "\n",
    "x_test = tf.keras.preprocessing.sequence.pad_sequences(x_test,\n",
    "                                                       value=word_to_index[\"<PAD>\"],\n",
    "                                                       padding='pre',\n",
    "                                                       maxlen=maxlen)\n",
    "\n",
    "print(x_train.shape)"
   ]
  },
  {
   "cell_type": "markdown",
   "id": "31c67509",
   "metadata": {},
   "source": [
    "## 모델 구성 및 validation set 구성\n",
    "- 모델 3종류\n",
    "1. RNN\n",
    "1. 1-D CNN\n",
    "1. GlovalMaxPooling1D"
   ]
  },
  {
   "cell_type": "code",
   "execution_count": 14,
   "id": "3da10049",
   "metadata": {},
   "outputs": [
    {
     "name": "stdout",
     "output_type": "stream",
     "text": [
      "(116182, 41)\n",
      "(116182,)\n"
     ]
    }
   ],
   "source": [
    "# val 비율 0.2 로 분리 약 30000\n",
    "\n",
    "# validation set 30000건 분리\n",
    "x_val = x_train[:30000]   \n",
    "y_val = y_train[:30000]\n",
    "\n",
    "# validation set을 제외한 나머지 \n",
    "partial_x_train = x_train[30000:]  \n",
    "partial_y_train = y_train[30000:]\n",
    "\n",
    "print(partial_x_train.shape)\n",
    "print(partial_y_train.shape)"
   ]
  },
  {
   "cell_type": "code",
   "execution_count": 32,
   "id": "d8a54bb5",
   "metadata": {
    "scrolled": true
   },
   "outputs": [
    {
     "name": "stdout",
     "output_type": "stream",
     "text": [
      "Model: \"sequential_3\"\n",
      "_________________________________________________________________\n",
      "Layer (type)                 Output Shape              Param #   \n",
      "=================================================================\n",
      "embedding_3 (Embedding)      (None, None, 16)          160000    \n",
      "_________________________________________________________________\n",
      "lstm_1 (LSTM)                (None, 8)                 800       \n",
      "_________________________________________________________________\n",
      "dense_6 (Dense)              (None, 8)                 72        \n",
      "_________________________________________________________________\n",
      "dense_7 (Dense)              (None, 1)                 9         \n",
      "=================================================================\n",
      "Total params: 160,881\n",
      "Trainable params: 160,881\n",
      "Non-trainable params: 0\n",
      "_________________________________________________________________\n"
     ]
    }
   ],
   "source": [
    "#model1\n",
    "\n",
    "vocab_size = 10000  # 어휘 사전의 크기입니다(20000개의 단어)\n",
    "word_vector_dim = 16  # 단어 하나를 표현하는 임베딩 벡터의 차원수입니다. \n",
    "\n",
    "model1 = tf.keras.Sequential()\n",
    "model1.add(tf.keras.layers.Embedding(vocab_size, word_vector_dim, input_shape=(None,)))\n",
    "model1.add(tf.keras.layers.LSTM(8))   # 가장 널리 쓰이는 RNN인 LSTM 레이어를 사용하였습니다. 이때 LSTM state 벡터의 차원수는 8로 하였습니다. (변경 가능)\n",
    "model1.add(tf.keras.layers.Dense(8, activation='relu'))\n",
    "model1.add(tf.keras.layers.Dense(1, activation='sigmoid'))  # 최종 출력은 긍정/부정을 나타내는 1dim 입니다.\n",
    "\n",
    "model1.summary()"
   ]
  },
  {
   "cell_type": "code",
   "execution_count": 33,
   "id": "7def2d22",
   "metadata": {},
   "outputs": [
    {
     "name": "stdout",
     "output_type": "stream",
     "text": [
      "Model: \"sequential_4\"\n",
      "_________________________________________________________________\n",
      "Layer (type)                 Output Shape              Param #   \n",
      "=================================================================\n",
      "embedding_4 (Embedding)      (None, None, 16)          160000    \n",
      "_________________________________________________________________\n",
      "conv1d_2 (Conv1D)            (None, None, 16)          1808      \n",
      "_________________________________________________________________\n",
      "max_pooling1d_1 (MaxPooling1 (None, None, 16)          0         \n",
      "_________________________________________________________________\n",
      "conv1d_3 (Conv1D)            (None, None, 16)          1808      \n",
      "_________________________________________________________________\n",
      "global_max_pooling1d_2 (Glob (None, 16)                0         \n",
      "_________________________________________________________________\n",
      "dense_8 (Dense)              (None, 8)                 136       \n",
      "_________________________________________________________________\n",
      "dense_9 (Dense)              (None, 1)                 9         \n",
      "=================================================================\n",
      "Total params: 163,761\n",
      "Trainable params: 163,761\n",
      "Non-trainable params: 0\n",
      "_________________________________________________________________\n"
     ]
    }
   ],
   "source": [
    "#model2\n",
    "\n",
    "\"\"\"#1-D CNN은 문장 전체를 한꺼번에 한 방향으로 길이 7짜리 필터로 스캐닝 하면서 \n",
    "7단어 이내에서 발견되는 특징을 추출하여 그것으로 문장을 분류하는 방식으로 사용\n",
    "\"\"\"\n",
    "vocab_size = 10000  # 어휘 사전의 크기입니다(20000개의 단어)\n",
    "word_vector_dim = 16   # 단어 하나를 표현하는 임베딩 벡터의 차원 수입니다. \n",
    "\n",
    "model2 = tf.keras.Sequential()\n",
    "model2.add(tf.keras.layers.Embedding(vocab_size, word_vector_dim, input_shape=(None,)))\n",
    "model2.add(tf.keras.layers.Conv1D(16, 7, activation='relu'))\n",
    "model2.add(tf.keras.layers.MaxPooling1D(5))\n",
    "model2.add(tf.keras.layers.Conv1D(16, 7, activation='relu'))\n",
    "model2.add(tf.keras.layers.GlobalMaxPooling1D())\n",
    "model2.add(tf.keras.layers.Dense(8, activation='relu'))\n",
    "model2.add(tf.keras.layers.Dense(1, activation='sigmoid'))  # 최종 출력은 긍정/부정을 나타내는 1dim 입니다.\n",
    "\n",
    "model2.summary()"
   ]
  },
  {
   "cell_type": "code",
   "execution_count": 34,
   "id": "f2fcd192",
   "metadata": {
    "scrolled": false
   },
   "outputs": [
    {
     "name": "stdout",
     "output_type": "stream",
     "text": [
      "Model: \"sequential_5\"\n",
      "_________________________________________________________________\n",
      "Layer (type)                 Output Shape              Param #   \n",
      "=================================================================\n",
      "embedding_5 (Embedding)      (None, None, 16)          160000    \n",
      "_________________________________________________________________\n",
      "global_max_pooling1d_3 (Glob (None, 16)                0         \n",
      "_________________________________________________________________\n",
      "dense_10 (Dense)             (None, 8)                 136       \n",
      "_________________________________________________________________\n",
      "dense_11 (Dense)             (None, 1)                 9         \n",
      "=================================================================\n",
      "Total params: 160,145\n",
      "Trainable params: 160,145\n",
      "Non-trainable params: 0\n",
      "_________________________________________________________________\n"
     ]
    }
   ],
   "source": [
    "#model3\n",
    "\n",
    "# 전체 문장 중에서 단 하나의 가장 중요한 단어만 피처로 추출 하는 방식()\n",
    "# GlobalMaxPooling1D() 레이어 이용\n",
    "\n",
    "vocab_size = 10000  # 어휘 사전의 크기입니다(20000개의 단어)\n",
    "word_vector_dim = 16   # 단어 하나를 표현하는 임베딩 벡터의 차원 수입니다. \n",
    "\n",
    "model3 = tf.keras.Sequential()\n",
    "model3.add(tf.keras.layers.Embedding(vocab_size, word_vector_dim, input_shape=(None,)))\n",
    "model3.add(tf.keras.layers.GlobalMaxPooling1D())\n",
    "model3.add(tf.keras.layers.Dense(8, activation='relu'))\n",
    "model3.add(tf.keras.layers.Dense(1, activation='sigmoid'))  # 최종 출력은 긍정/부정을 나타내는 1dim 입니다.\n",
    "\n",
    "model3.summary()"
   ]
  },
  {
   "cell_type": "markdown",
   "id": "e5a40a88",
   "metadata": {},
   "source": [
    "## 모델 훈련 개시"
   ]
  },
  {
   "cell_type": "code",
   "execution_count": 35,
   "id": "324b5c7a",
   "metadata": {
    "scrolled": true
   },
   "outputs": [
    {
     "name": "stdout",
     "output_type": "stream",
     "text": [
      "Epoch 1/7\n",
      "286/286 [==============================] - 3s 7ms/step - loss: 0.5636 - accuracy: 0.7384 - val_loss: 0.4589 - val_accuracy: 0.8450\n",
      "Epoch 2/7\n",
      "286/286 [==============================] - 2s 6ms/step - loss: 0.4450 - accuracy: 0.8517 - val_loss: 0.4045 - val_accuracy: 0.8717\n",
      "Epoch 3/7\n",
      "286/286 [==============================] - 2s 6ms/step - loss: 0.4042 - accuracy: 0.8609 - val_loss: 0.3720 - val_accuracy: 0.8758\n",
      "Epoch 4/7\n",
      "286/286 [==============================] - 2s 6ms/step - loss: 0.3769 - accuracy: 0.8662 - val_loss: 0.3474 - val_accuracy: 0.8826\n",
      "Epoch 5/7\n",
      "286/286 [==============================] - 2s 6ms/step - loss: 0.3555 - accuracy: 0.8719 - val_loss: 0.3269 - val_accuracy: 0.8882\n",
      "Epoch 6/7\n",
      "286/286 [==============================] - 2s 6ms/step - loss: 0.3365 - accuracy: 0.8775 - val_loss: 0.3089 - val_accuracy: 0.8953\n",
      "Epoch 7/7\n",
      "286/286 [==============================] - 2s 6ms/step - loss: 0.3193 - accuracy: 0.8831 - val_loss: 0.2943 - val_accuracy: 0.8980\n"
     ]
    }
   ],
   "source": [
    "epochs=7  # 몇 epoch를 훈련하면 좋을지 결과를 보면서 바꾸어 봅시다.\n",
    "\n",
    "\n",
    "model1.compile(optimizer='adam',\n",
    "              loss='binary_crossentropy',\n",
    "              metrics=['accuracy'])\n",
    "\n",
    "history1 = model1.fit(x_train,\n",
    "                    y_train,\n",
    "                    epochs=epochs,\n",
    "                    batch_size=512,\n",
    "                    validation_data=(x_val, y_val),\n",
    "                    verbose=1)"
   ]
  },
  {
   "cell_type": "code",
   "execution_count": 36,
   "id": "bc4b3b41",
   "metadata": {},
   "outputs": [
    {
     "name": "stdout",
     "output_type": "stream",
     "text": [
      "7\n"
     ]
    }
   ],
   "source": [
    "print(epochs)"
   ]
  },
  {
   "cell_type": "code",
   "execution_count": 37,
   "id": "1458508f",
   "metadata": {},
   "outputs": [
    {
     "name": "stdout",
     "output_type": "stream",
     "text": [
      "Epoch 1/7\n",
      "286/286 [==============================] - 2s 5ms/step - loss: 0.4747 - accuracy: 0.7727 - val_loss: 0.3205 - val_accuracy: 0.8656\n",
      "Epoch 2/7\n",
      "286/286 [==============================] - 1s 5ms/step - loss: 0.3219 - accuracy: 0.8625 - val_loss: 0.2777 - val_accuracy: 0.8863\n",
      "Epoch 3/7\n",
      "286/286 [==============================] - 1s 5ms/step - loss: 0.2899 - accuracy: 0.8795 - val_loss: 0.2487 - val_accuracy: 0.9032\n",
      "Epoch 4/7\n",
      "286/286 [==============================] - 1s 5ms/step - loss: 0.2615 - accuracy: 0.8931 - val_loss: 0.2232 - val_accuracy: 0.9143\n",
      "Epoch 5/7\n",
      "286/286 [==============================] - 1s 5ms/step - loss: 0.2325 - accuracy: 0.9082 - val_loss: 0.1853 - val_accuracy: 0.9340\n",
      "Epoch 6/7\n",
      "286/286 [==============================] - 1s 5ms/step - loss: 0.2012 - accuracy: 0.9236 - val_loss: 0.1554 - val_accuracy: 0.9471\n",
      "Epoch 7/7\n",
      "286/286 [==============================] - 1s 5ms/step - loss: 0.1715 - accuracy: 0.9379 - val_loss: 0.1308 - val_accuracy: 0.9580\n"
     ]
    }
   ],
   "source": [
    "model2.compile(optimizer='adam',\n",
    "              loss='binary_crossentropy',\n",
    "              metrics=['accuracy'])\n",
    "\n",
    "\n",
    "history2 = model2.fit(x_train,\n",
    "                    y_train,\n",
    "                    epochs=epochs,\n",
    "                    batch_size=512,\n",
    "                    validation_data=(x_val, y_val),\n",
    "                    verbose=1)"
   ]
  },
  {
   "cell_type": "code",
   "execution_count": 38,
   "id": "9b0cd1cd",
   "metadata": {},
   "outputs": [
    {
     "name": "stdout",
     "output_type": "stream",
     "text": [
      "7\n"
     ]
    }
   ],
   "source": [
    "print(epochs)"
   ]
  },
  {
   "cell_type": "code",
   "execution_count": 39,
   "id": "1a5db204",
   "metadata": {},
   "outputs": [
    {
     "name": "stdout",
     "output_type": "stream",
     "text": [
      "Epoch 1/7\n",
      "286/286 [==============================] - 1s 4ms/step - loss: 0.5775 - accuracy: 0.7425 - val_loss: 0.4075 - val_accuracy: 0.8318\n",
      "Epoch 2/7\n",
      "286/286 [==============================] - 1s 3ms/step - loss: 0.3721 - accuracy: 0.8402 - val_loss: 0.3217 - val_accuracy: 0.8633\n",
      "Epoch 3/7\n",
      "286/286 [==============================] - 1s 4ms/step - loss: 0.3241 - accuracy: 0.8619 - val_loss: 0.2894 - val_accuracy: 0.8809\n",
      "Epoch 4/7\n",
      "286/286 [==============================] - 1s 4ms/step - loss: 0.2978 - accuracy: 0.8760 - val_loss: 0.2664 - val_accuracy: 0.8931\n",
      "Epoch 5/7\n",
      "286/286 [==============================] - 1s 3ms/step - loss: 0.2784 - accuracy: 0.8861 - val_loss: 0.2487 - val_accuracy: 0.9016\n",
      "Epoch 6/7\n",
      "286/286 [==============================] - 1s 4ms/step - loss: 0.2629 - accuracy: 0.8931 - val_loss: 0.2341 - val_accuracy: 0.9088\n",
      "Epoch 7/7\n",
      "286/286 [==============================] - 1s 3ms/step - loss: 0.2492 - accuracy: 0.8995 - val_loss: 0.2218 - val_accuracy: 0.9146\n"
     ]
    }
   ],
   "source": [
    "model3.compile(optimizer='adam',\n",
    "              loss='binary_crossentropy',\n",
    "              metrics=['accuracy'])\n",
    "              \n",
    "\n",
    "history3 = model3.fit(x_train,\n",
    "                    y_train,\n",
    "                    epochs=epochs,\n",
    "                    batch_size=512,\n",
    "                    validation_data=(x_val, y_val),\n",
    "                    verbose=1)"
   ]
  },
  {
   "cell_type": "markdown",
   "id": "433108d1",
   "metadata": {},
   "source": [
    "## Loss, Accuracy 시각화"
   ]
  },
  {
   "cell_type": "code",
   "execution_count": 40,
   "id": "f63f6d57",
   "metadata": {},
   "outputs": [
    {
     "data": {
      "text/plain": [
       "Text(0.5, 1.0, 'model3_acc')"
      ]
     },
     "execution_count": 40,
     "metadata": {},
     "output_type": "execute_result"
    },
    {
     "data": {
      "image/png": "[encoded data removed]",
      "text/plain": [
       "<Figure size 720x720 with 6 Axes>"
      ]
     },
     "metadata": {
      "needs_background": "light"
     },
     "output_type": "display_data"
    }
   ],
   "source": [
    "epoch = np.arange(1,epochs+1)\n",
    "plt.figure(figsize=(10,10))\n",
    "plt.subplot(321)\n",
    "plt.scatter(epoch,history1.history['loss'], label='loss')\n",
    "plt.plot(epoch,history1.history['val_loss'], label='val_loss')\n",
    "plt.legend()\n",
    "plt.title(\"model1_loss\")\n",
    "plt.subplot(322)\n",
    "plt.scatter(epoch,history1.history['accuracy'], label='accuracy')\n",
    "plt.plot(epoch,history1.history['val_accuracy'], label='val_accracy')\n",
    "plt.legend()\n",
    "plt.title(\"model1_acc\")\n",
    "\n",
    "plt.subplot(323)\n",
    "plt.scatter(epoch,history2.history['loss'], label='loss')\n",
    "plt.plot(epoch,history2.history['val_loss'], label='val_loss')\n",
    "plt.legend()\n",
    "plt.title(\"model2_loss\")\n",
    "plt.subplot(324)\n",
    "plt.scatter(epoch,history2.history['accuracy'], label='accuracy')\n",
    "plt.plot(epoch,history2.history['val_accuracy'], label='val_accracy')\n",
    "plt.legend()\n",
    "plt.title(\"model2_acc\")\n",
    "\n",
    "plt.subplot(325)\n",
    "plt.scatter(epoch,history3.history['loss'], label='loss')\n",
    "plt.plot(epoch,history3.history['val_loss'], label='val_loss')\n",
    "plt.legend()\n",
    "plt.title(\"model3_loss\")\n",
    "plt.subplot(326)\n",
    "plt.scatter(epoch,history3.history['accuracy'], label='accuracy')\n",
    "plt.plot(epoch,history3.history['val_accuracy'], label='val_accracy')\n",
    "plt.legend()\n",
    "plt.title(\"model3_acc\")"
   ]
  },
  {
   "cell_type": "code",
   "execution_count": 41,
   "id": "15a4572e",
   "metadata": {},
   "outputs": [
    {
     "name": "stdout",
     "output_type": "stream",
     "text": [
      "1537/1537 - 3s - loss: 0.3876 - accuracy: 0.8434\n",
      "1537/1537 - 2s - loss: 0.4220 - accuracy: 0.8423\n",
      "1537/1537 - 2s - loss: 0.3721 - accuracy: 0.8446\n",
      "evaluate model1 : [0.38763219118118286, 0.8433590531349182]\n",
      "evaluate model2 : [0.42200055718421936, 0.8423011898994446]\n",
      "evaluate model3 : [0.3721451759338379, 0.8445999622344971]\n"
     ]
    }
   ],
   "source": [
    "results1 = model1.evaluate(x_test,  y_test, verbose=2)\n",
    "results2 = model2.evaluate(x_test,  y_test, verbose=2)\n",
    "results3 = model3.evaluate(x_test,  y_test, verbose=2)\n",
    "\n",
    "print(\"evaluate model1 :\",results1) # loss, accuracy\n",
    "print(\"evaluate model2 :\",results2)\n",
    "print(\"evaluate model3 :\",results3)"
   ]
  },
  {
   "cell_type": "markdown",
   "id": "0246d60a",
   "metadata": {},
   "source": [
    "## 학습된 Embedding 레이어 분석"
   ]
  },
  {
   "cell_type": "code",
   "execution_count": 42,
   "id": "e96b04c8",
   "metadata": {},
   "outputs": [],
   "source": [
    "from gensim.models.keyedvectors import Word2VecKeyedVectors"
   ]
  },
  {
   "cell_type": "code",
   "execution_count": 43,
   "id": "efcffab4",
   "metadata": {
    "scrolled": true
   },
   "outputs": [
    {
     "name": "stdout",
     "output_type": "stream",
     "text": [
      "(10000, 16)\n"
     ]
    }
   ],
   "source": [
    "embedding_layer1 = model1.layers[0]\n",
    "weights = embedding_layer1.get_weights()[0]\n",
    "print(weights.shape)    # shape: (vocab_size, embedding_dim)"
   ]
  },
  {
   "cell_type": "code",
   "execution_count": 44,
   "id": "c054838d",
   "metadata": {},
   "outputs": [],
   "source": [
    "vectors = model1.get_weights()[0]"
   ]
  },
  {
   "cell_type": "code",
   "execution_count": 45,
   "id": "3a6627e0",
   "metadata": {},
   "outputs": [],
   "source": [
    "# 학습한 Embedding 파라미터를 파일에 써서 저장합니다. \n",
    "word2vec_file_path = os.getenv('HOME')+'/aiffel/sentiment_classification/data/word2vec.txt'\n",
    "f = open(word2vec_file_path, 'w')\n",
    "f.write('{} {}\\n'.format(vocab_size-4, word_vector_dim))  # 몇개의 벡터를 얼마 사이즈로 기재할지 타이틀을 씁니다.\n",
    "\n",
    "# 단어 개수(에서 특수문자 4개는 제외하고)만큼의 워드 벡터를 파일에 기록합니다. \n",
    "vectors = model1.get_weights()[0]\n",
    "for i in range(4,vocab_size):\n",
    "    f.write('{} {}\\n'.format(index_to_word[i], ' '.join(map(str, list(vectors[i, :])))))\n",
    "f.close()"
   ]
  },
  {
   "cell_type": "code",
   "execution_count": 46,
   "id": "7d041091",
   "metadata": {},
   "outputs": [],
   "source": [
    "word_vectors = Word2VecKeyedVectors.load_word2vec_format(word2vec_file_path, \n",
    "                                                         binary=False)"
   ]
  },
  {
   "cell_type": "code",
   "execution_count": 47,
   "id": "697f41a0",
   "metadata": {
    "scrolled": true
   },
   "outputs": [
    {
     "data": {
      "text/plain": [
       "array([-0.05243468,  0.02308796,  0.07008382,  0.1096475 ,  0.03476061,\n",
       "       -0.11451449,  0.03063659, -0.04622612,  0.05450479,  0.00764661,\n",
       "       -0.03882304,  0.06935218, -0.04202202,  0.08477476,  0.02859046,\n",
       "       -0.03358136], dtype=float32)"
      ]
     },
     "execution_count": 47,
     "metadata": {},
     "output_type": "execute_result"
    }
   ],
   "source": [
    "vector = word_vectors['추천']\n",
    "vector"
   ]
  },
  {
   "cell_type": "code",
   "execution_count": 48,
   "id": "a0de52c5",
   "metadata": {
    "scrolled": false
   },
   "outputs": [
    {
     "data": {
      "text/plain": [
       "[('。', 0.9434241652488708),\n",
       " ('OST', 0.9256173968315125),\n",
       " ('푹', 0.9235772490501404),\n",
       " ('식사', 0.9209716320037842),\n",
       " ('달달', 0.9190594553947449),\n",
       " ('대박', 0.9180808067321777),\n",
       " ('정리', 0.9160281419754028),\n",
       " ('연인', 0.9159424304962158),\n",
       " ('시스', 0.9154045581817627),\n",
       " ('개웃', 0.9153022170066833)]"
      ]
     },
     "execution_count": 48,
     "metadata": {},
     "output_type": "execute_result"
    }
   ],
   "source": [
    "word_vectors.similar_by_word(\"추천\")"
   ]
  },
  {
   "cell_type": "code",
   "execution_count": 49,
   "id": "8884d63a",
   "metadata": {},
   "outputs": [],
   "source": [
    "# 학습한 Embedding 파라미터를 파일에 써서 저장합니다. \n",
    "word2vec_file_path2 = os.getenv('HOME')+'/aiffel/sentiment_classification/data/word2vec2.txt'\n",
    "f = open(word2vec_file_path2, 'w')\n",
    "f.write('{} {}\\n'.format(vocab_size-4, word_vector_dim))  # 몇개의 벡터를 얼마 사이즈로 기재할지 타이틀을 씁니다.\n",
    "\n",
    "# 단어 개수(에서 특수문자 4개는 제외하고)만큼의 워드 벡터를 파일에 기록합니다. \n",
    "vectors2 = model2.get_weights()[0]\n",
    "for i in range(4,vocab_size):\n",
    "    f.write('{} {}\\n'.format(index_to_word[i], ' '.join(map(str, list(vectors2[i, :])))))\n",
    "f.close()"
   ]
  },
  {
   "cell_type": "code",
   "execution_count": 50,
   "id": "dbe7cdc2",
   "metadata": {},
   "outputs": [],
   "source": [
    "word_vectors2 = Word2VecKeyedVectors.load_word2vec_format(word2vec_file_path2, \n",
    "                                                         binary=False)"
   ]
  },
  {
   "cell_type": "code",
   "execution_count": 51,
   "id": "93dd09ec",
   "metadata": {},
   "outputs": [
    {
     "name": "stdout",
     "output_type": "stream",
     "text": [
      "[-0.03920706 -0.02555488  0.01872399 -0.03775585  0.07922074  0.04704689\n",
      "  0.05903839  0.05211259  0.01722712 -0.05446728 -0.12121018  0.08648243\n",
      "  0.00793268  0.02811423  0.10686548 -0.08869047]\n"
     ]
    }
   ],
   "source": [
    "print(word_vectors2['추천'])"
   ]
  },
  {
   "cell_type": "code",
   "execution_count": 52,
   "id": "4f83c2a1",
   "metadata": {
    "scrolled": true
   },
   "outputs": [
    {
     "data": {
      "text/plain": [
       "[('빠져', 0.8721400499343872),\n",
       " ('모델', 0.850459098815918),\n",
       " ('성공', 0.837326169013977),\n",
       " ('빨간', 0.8346065282821655),\n",
       " ('상큼', 0.8253774046897888),\n",
       " ('기다려', 0.8083670139312744),\n",
       " ('끊이', 0.8049447536468506),\n",
       " ('남녀노소', 0.8038849234580994),\n",
       " ('이뻐', 0.7988002896308899),\n",
       " ('감춰진', 0.7950519323348999)]"
      ]
     },
     "execution_count": 52,
     "metadata": {},
     "output_type": "execute_result"
    }
   ],
   "source": [
    "word_vectors2.similar_by_word(\"추천\")"
   ]
  },
  {
   "cell_type": "code",
   "execution_count": 53,
   "id": "63e42841",
   "metadata": {},
   "outputs": [],
   "source": [
    "# 학습한 Embedding 파라미터를 파일에 써서 저장합니다. \n",
    "word2vec_file_path3 = os.getenv('HOME')+'/aiffel/sentiment_classification/data/word2vec3.txt'\n",
    "f = open(word2vec_file_path3, 'w')\n",
    "f.write('{} {}\\n'.format(vocab_size-4, word_vector_dim))  # 몇개의 벡터를 얼마 사이즈로 기재할지 타이틀을 씁니다.\n",
    "\n",
    "# 단어 개수(에서 특수문자 4개는 제외하고)만큼의 워드 벡터를 파일에 기록합니다. \n",
    "vectors3 = model3.get_weights()[0]\n",
    "for i in range(4,vocab_size):\n",
    "    f.write('{} {}\\n'.format(index_to_word[i], ' '.join(map(str, list(vectors3[i, :])))))\n",
    "f.close()"
   ]
  },
  {
   "cell_type": "code",
   "execution_count": 54,
   "id": "4c659592",
   "metadata": {},
   "outputs": [],
   "source": [
    "word_vectors3 = Word2VecKeyedVectors.load_word2vec_format(word2vec_file_path3, \n",
    "                                                         binary=False)"
   ]
  },
  {
   "cell_type": "code",
   "execution_count": 55,
   "id": "672737cb",
   "metadata": {},
   "outputs": [
    {
     "name": "stdout",
     "output_type": "stream",
     "text": [
      "[-0.08753727 -0.14830239 -0.10275319 -0.13429077 -0.14217031  0.03381395\n",
      " -0.12785797  0.20592506 -0.12001259 -0.13856274  0.04852999 -0.03265006\n",
      " -0.12481397 -0.10676087 -0.16738944 -0.00829345]\n"
     ]
    }
   ],
   "source": [
    "print(word_vectors3['추천'])"
   ]
  },
  {
   "cell_type": "code",
   "execution_count": 56,
   "id": "51d7f1ee",
   "metadata": {},
   "outputs": [
    {
     "name": "stdout",
     "output_type": "stream",
     "text": [
      "[('★', 0.9087114930152893), ('어여', 0.9071704149246216), ('처', 0.9028778076171875), ('생물', 0.8997148871421814), ('발랄', 0.8937371373176575), ('죽인다', 0.8796045184135437), ('윤계상', 0.8774604797363281), ('닥치', 0.8771536350250244), ('이쁘', 0.8730746507644653), ('애니메이션', 0.871359646320343)]\n"
     ]
    }
   ],
   "source": [
    "print(word_vectors3.similar_by_word(\"추천\"))"
   ]
  },
  {
   "cell_type": "code",
   "execution_count": 57,
   "id": "9dda4d98",
   "metadata": {},
   "outputs": [],
   "source": [
    "from gensim.models.keyedvectors import Word2VecKeyedVectors\n",
    "word2vec_file_path1 = os.getenv('HOME')+'/aiffel/word_embadding/word2vec_ko.model'\n",
    "word2vec_pre = Word2VecKeyedVectors.load(word2vec_file_path1)"
   ]
  },
  {
   "cell_type": "code",
   "execution_count": 58,
   "id": "b68ce6d0",
   "metadata": {},
   "outputs": [
    {
     "data": {
      "text/plain": [
       "[('천거', 0.7103838920593262),\n",
       " ('초빙', 0.687961220741272),\n",
       " ('초청', 0.6826260089874268),\n",
       " ('위촉', 0.6571412682533264),\n",
       " ('포상', 0.6499664783477783),\n",
       " ('선출', 0.6489635705947876),\n",
       " ('소개', 0.6427397727966309),\n",
       " ('임명', 0.6394351124763489),\n",
       " ('등용', 0.6328903436660767),\n",
       " ('추대', 0.6315879225730896)]"
      ]
     },
     "execution_count": 58,
     "metadata": {},
     "output_type": "execute_result"
    }
   ],
   "source": [
    "word2vec_pre.wv.similar_by_word('추천')"
   ]
  },
  {
   "cell_type": "markdown",
   "id": "acd169df",
   "metadata": {},
   "source": [
    "## 자체 학습과 사전학습된 레이어 비교\n",
    "\n",
    "### 모델간 비교\n",
    "\n",
    "- 자체 학습별로 다른 유사한 단어가 추출 되었다.\n",
    "- 같은 데이터라도 다른 학습방식이 적용되면 유사한 단어 추출시 다른 결과가 출력된다\n",
    "- 학습방식에 따라 가중치를 갱신하는 방식이 달라 각 단어벡터의 값이 다르기 떄문이다\n",
    "\n",
    "### 자체-사전 학습간 비교\n",
    "\n",
    "- 같은 단어와 유사한 단어를 추출하였을때 다른 결과가 출력되었다\n",
    "- 기반이 되는 학습 데이터가 다르기 때문에 나타날 수 밖에 없는 결과로 보인다.\n",
    "- 사전 학습 결과는 다소 사전적인 의미기준으로 유사 단어를 출력해준다"
   ]
  },
  {
   "cell_type": "markdown",
   "id": "87ee71a2",
   "metadata": {},
   "source": [
    "## 한국어 Word2Vec 임베딩 활용하여 성능 개선"
   ]
  },
  {
   "cell_type": "code",
   "execution_count": 59,
   "id": "1d05c39c",
   "metadata": {},
   "outputs": [],
   "source": [
    "from gensim.models import KeyedVectors\n",
    "# 사전 학습된 한국어 Word2Vec 임베딩 다시 읽기 \n",
    "\n",
    "word2vec_file_path1 = os.getenv('HOME')+'/aiffel/word_embadding/word2vec_ko.model'\n",
    "word2vec_pre = Word2VecKeyedVectors.load(word2vec_file_path1)"
   ]
  },
  {
   "cell_type": "code",
   "execution_count": 60,
   "id": "ed481c5d",
   "metadata": {},
   "outputs": [
    {
     "data": {
      "text/plain": [
       "302960"
      ]
     },
     "execution_count": 60,
     "metadata": {},
     "output_type": "execute_result"
    }
   ],
   "source": [
    "len(word2vec_pre.wv)"
   ]
  },
  {
   "cell_type": "markdown",
   "id": "59ae9588",
   "metadata": {},
   "source": [
    "- 단어사전 크기 25000으로 증가"
   ]
  },
  {
   "cell_type": "code",
   "execution_count": 61,
   "id": "2b7b207b",
   "metadata": {},
   "outputs": [],
   "source": [
    "def load_data(train_data, test_data, num_words=25000):\n",
    "    train_data.drop_duplicates(subset=['document'], inplace=True) # 중복행 제거\n",
    "    train_data = train_data.dropna(how = 'any') # 한값이라도 NA이면 해당 행 제거\n",
    "    test_data.drop_duplicates(subset=['document'], inplace=True) # 중복행 제거\n",
    "    test_data = test_data.dropna(how = 'any') # 한값이라도 NA이면 해당 행 제거\n",
    "    \n",
    "    X_train = []\n",
    "    for sentence in train_data['document']:\n",
    "        temp_X = tokenizer.morphs(sentence) # 토큰화\n",
    "        temp_X = [word for word in temp_X if not word in stopwords] # 불용어 제거\n",
    "        X_train.append(temp_X)\n",
    "\n",
    "    X_test = []\n",
    "    for sentence in test_data['document']:\n",
    "        temp_X = tokenizer.morphs(sentence) # 토큰화\n",
    "        temp_X = [word for word in temp_X if not word in stopwords] # 불용어 제거\n",
    "        X_test.append(temp_X)\n",
    "    \n",
    "    words = np.concatenate(X_train).tolist()   #tolist() 함수는 같은 위치의 데이터를 묶어준다\n",
    "    counter = Counter(words)\n",
    "    counter = counter.most_common(25000-4)\n",
    "    vocab = ['<PAD>', '<BOS>', '<UNK>', '<UNUSED>'] + [key for key, _ in counter]\n",
    "    word_to_index = {word:index for index, word in enumerate(vocab)}\n",
    "        \n",
    "    def wordlist_to_indexlist(wordlist):\n",
    "        return [word_to_index[word] if word in word_to_index \\\n",
    "                else word_to_index['<UNK>'] for word in wordlist]\n",
    "        \n",
    "    X_train = list(map(wordlist_to_indexlist, X_train))\n",
    "    X_test = list(map(wordlist_to_indexlist, X_test))\n",
    "        \n",
    "    return X_train, np.array(list(train_data['label'])), \\\n",
    "            X_test, np.array(list(test_data['label'])),word_to_index\n",
    "    \n",
    "x_train1, y_train1, x_test1, y_test1, word_to_index1 = load_data(train_data, test_data)\n",
    "index_to_word1 = {index:word for word, index in word_to_index1.items()}"
   ]
  },
  {
   "cell_type": "code",
   "execution_count": 62,
   "id": "b9918598",
   "metadata": {},
   "outputs": [],
   "source": [
    "x_train1 = tf.keras.preprocessing.sequence.pad_sequences(x_train1,\n",
    "                                                        value=word_to_index[\"<PAD>\"],\n",
    "                                                        padding='pre',\n",
    "                                                        maxlen=maxlen)\n",
    "\n",
    "x_test1 = tf.keras.preprocessing.sequence.pad_sequences(x_test1,\n",
    "                                                       value=word_to_index[\"<PAD>\"],\n",
    "                                                       padding='pre',\n",
    "                                                       maxlen=maxlen)"
   ]
  },
  {
   "cell_type": "code",
   "execution_count": 63,
   "id": "08c1a15d",
   "metadata": {},
   "outputs": [
    {
     "data": {
      "text/plain": [
       "25000"
      ]
     },
     "execution_count": 63,
     "metadata": {},
     "output_type": "execute_result"
    }
   ],
   "source": [
    "len(index_to_word1)"
   ]
  },
  {
   "cell_type": "code",
   "execution_count": 64,
   "id": "4deb7676",
   "metadata": {},
   "outputs": [],
   "source": [
    "vocab_size = 25000    # 어휘 사전의 크기입니다\n",
    "word_vector_dim = 100  # 워드 벡터의 차원수\n",
    "embedding_matrix = np.random.rand(vocab_size, word_vector_dim)\n",
    "\n",
    "# embedding_matrix에 Word2Vec 워드 벡터를 단어 하나씩마다 차례차례 카피한다.\n",
    "for i in range(4,vocab_size):\n",
    "    if index_to_word1[i] in word2vec_pre.wv:   #한국어 word2Vec 임베딩\n",
    "        embedding_matrix[i] = word2vec_pre.wv[index_to_word1[i]]"
   ]
  },
  {
   "cell_type": "code",
   "execution_count": 65,
   "id": "5021e711",
   "metadata": {
    "scrolled": true
   },
   "outputs": [
    {
     "name": "stdout",
     "output_type": "stream",
     "text": [
      "Model: \"sequential_6\"\n",
      "_________________________________________________________________\n",
      "Layer (type)                 Output Shape              Param #   \n",
      "=================================================================\n",
      "embedding_6 (Embedding)      (None, 41, 100)           2500000   \n",
      "_________________________________________________________________\n",
      "conv1d_4 (Conv1D)            (None, 35, 16)            11216     \n",
      "_________________________________________________________________\n",
      "max_pooling1d_2 (MaxPooling1 (None, 7, 16)             0         \n",
      "_________________________________________________________________\n",
      "conv1d_5 (Conv1D)            (None, 1, 16)             1808      \n",
      "_________________________________________________________________\n",
      "global_max_pooling1d_4 (Glob (None, 16)                0         \n",
      "_________________________________________________________________\n",
      "dense_12 (Dense)             (None, 8)                 136       \n",
      "_________________________________________________________________\n",
      "dense_13 (Dense)             (None, 1)                 9         \n",
      "=================================================================\n",
      "Total params: 2,513,169\n",
      "Trainable params: 2,513,169\n",
      "Non-trainable params: 0\n",
      "_________________________________________________________________\n"
     ]
    }
   ],
   "source": [
    "from tensorflow.keras.initializers import Constant\n",
    "\n",
    "vocab_size = 25000    # 어휘 사전의 크기입니다\n",
    "word_vector_dim = 100  # 워드 벡터의 차원 수 \n",
    "\n",
    "# 모델 구성\n",
    "model = tf.keras.Sequential()\n",
    "model.add(tf.keras.layers.Embedding(vocab_size, \n",
    "                                 word_vector_dim, \n",
    "                                 embeddings_initializer=Constant(embedding_matrix),  # 카피한 임베딩을 여기서 활용\n",
    "                                 input_length=maxlen, \n",
    "                                 trainable=True))   # trainable을 True로 주면 Fine-tuning\n",
    "model.add(tf.keras.layers.Conv1D(16, 7, activation='relu'))\n",
    "model.add(tf.keras.layers.MaxPooling1D(5))\n",
    "model.add(tf.keras.layers.Conv1D(16, 7, activation='relu'))\n",
    "model.add(tf.keras.layers.GlobalMaxPooling1D())\n",
    "model.add(tf.keras.layers.Dense(8, activation='relu'))\n",
    "model.add(tf.keras.layers.Dense(1, activation='sigmoid')) \n",
    "\n",
    "model.summary()"
   ]
  },
  {
   "cell_type": "code",
   "execution_count": 66,
   "id": "6aed111a",
   "metadata": {},
   "outputs": [],
   "source": [
    "# val 비율 변경 \n",
    "# validation set \n",
    "x_val1 = x_train1[:40000]   \n",
    "y_val1 = y_train1[:40000]\n",
    "\n",
    "# validation set을 제외한 나머지 \n",
    "partial_x_train1 = x_train1[40000:]  \n",
    "partial_y_train1 = y_train1[40000:]"
   ]
  },
  {
   "cell_type": "code",
   "execution_count": 70,
   "id": "be6d2be8",
   "metadata": {},
   "outputs": [
    {
     "name": "stdout",
     "output_type": "stream",
     "text": [
      "Epoch 1/5\n",
      "208/208 [==============================] - 2s 7ms/step - loss: 0.2554 - accuracy: 0.8975 - val_loss: 0.3806 - val_accuracy: 0.8419\n",
      "Epoch 2/5\n",
      "208/208 [==============================] - 1s 6ms/step - loss: 0.2377 - accuracy: 0.9065 - val_loss: 0.3803 - val_accuracy: 0.8419\n",
      "Epoch 3/5\n",
      "208/208 [==============================] - 1s 6ms/step - loss: 0.2239 - accuracy: 0.9125 - val_loss: 0.3957 - val_accuracy: 0.8412\n",
      "Epoch 4/5\n",
      "208/208 [==============================] - 1s 6ms/step - loss: 0.2090 - accuracy: 0.9199 - val_loss: 0.4053 - val_accuracy: 0.8417\n",
      "Epoch 5/5\n",
      "208/208 [==============================] - 1s 6ms/step - loss: 0.1961 - accuracy: 0.9254 - val_loss: 0.4094 - val_accuracy: 0.8405\n"
     ]
    }
   ],
   "source": [
    "# 학습의 진행\n",
    "model.compile(optimizer='adam',\n",
    "              loss='binary_crossentropy',\n",
    "              metrics=['accuracy'])\n",
    "              \n",
    "epochs=5  # 몇 epoch를 훈련하면 좋을지 결과를 보면서 바꾸어 봅시다. \n",
    "\n",
    "history = model.fit(partial_x_train1,\n",
    "                    partial_y_train1,\n",
    "                    epochs=epochs,\n",
    "                    batch_size=512,\n",
    "                    validation_data=(x_val1, y_val1),\n",
    "                    verbose=1)"
   ]
  },
  {
   "cell_type": "code",
   "execution_count": 71,
   "id": "5ab67076",
   "metadata": {},
   "outputs": [
    {
     "data": {
      "text/plain": [
       "Text(0.5, 1.0, 'model_acc')"
      ]
     },
     "execution_count": 71,
     "metadata": {},
     "output_type": "execute_result"
    },
    {
     "data": {
      "image/png": "[encoded data removed]",
      "text/plain": [
       "<Figure size 720x720 with 2 Axes>"
      ]
     },
     "metadata": {
      "needs_background": "light"
     },
     "output_type": "display_data"
    }
   ],
   "source": [
    "epoch = np.arange(1,epochs+1)\n",
    "plt.figure(figsize=(10,10))\n",
    "plt.subplot(211)\n",
    "plt.scatter(epoch,history.history['loss'], label='loss')\n",
    "plt.plot(epoch,history.history['val_loss'], label='val_loss')\n",
    "plt.legend()\n",
    "plt.title(\"model_loss\")\n",
    "plt.subplot(212)\n",
    "plt.scatter(epoch,history.history['accuracy'], label='accuracy')\n",
    "plt.plot(epoch,history.history['val_accuracy'], label='val_accracy')\n",
    "plt.legend()\n",
    "plt.title(\"model_acc\")\n"
   ]
  },
  {
   "cell_type": "code",
   "execution_count": 72,
   "id": "3f67ecaa",
   "metadata": {},
   "outputs": [
    {
     "name": "stdout",
     "output_type": "stream",
     "text": [
      "1537/1537 - 3s - loss: 0.4184 - accuracy: 0.8392\n",
      "[0.4184153378009796, 0.8392090797424316]\n"
     ]
    }
   ],
   "source": [
    "# 테스트셋을 통한 모델 평가\n",
    "results = model.evaluate(x_test1,  y_test1, verbose=2)\n",
    "\n",
    "print(results)"
   ]
  },
  {
   "cell_type": "code",
   "execution_count": null,
   "id": "3d0e5483",
   "metadata": {},
   "outputs": [],
   "source": []
  },
  {
   "cell_type": "code",
   "execution_count": null,
   "id": "751befc2",
   "metadata": {},
   "outputs": [],
   "source": []
  },
  {
   "cell_type": "code",
   "execution_count": null,
   "id": "69cd7ad4",
   "metadata": {},
   "outputs": [],
   "source": []
  },
  {
   "cell_type": "code",
   "execution_count": null,
   "id": "7ebde62e",
   "metadata": {},
   "outputs": [],
   "source": []
  },
  {
   "cell_type": "code",
   "execution_count": null,
   "id": "acf9f1b3",
   "metadata": {},
   "outputs": [],
   "source": []
  }
 ],
 "metadata": {
  "kernelspec": {
   "display_name": "Python 3 (ipykernel)",
   "language": "python",
   "name": "python3"
  },
  "language_info": {
   "codemirror_mode": {
    "name": "ipython",
    "version": 3
   },
   "file_extension": ".py",
   "mimetype": "text/x-python",
   "name": "python",
   "nbconvert_exporter": "python",
   "pygments_lexer": "ipython3",
   "version": "3.9.7"
  }
 },
 "nbformat": 4,
 "nbformat_minor": 5
}
