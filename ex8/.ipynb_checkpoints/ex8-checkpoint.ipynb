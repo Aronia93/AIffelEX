{
 "cells": [
  {
   "cell_type": "markdown",
   "id": "15d92824",
   "metadata": {},
   "source": [
    "## 루브릭\n",
    "\n",
    "1. 다양한 방법으로 Text Classification 태스크를 성공적으로 구현하였다.\t\n",
    "- 3가지 이상의 모델이 성공적으로 시도됨\n",
    "2. gensim을 활용하여 자체학습된 혹은 사전학습된 임베딩 레이어를 분석하였다.\t\n",
    "- gensim의 유사단어 찾기를 활용하여 자체학습한 임베딩과 사전학습 임베딩을 비교 분석함\n",
    "3. 한국어 Word2Vec을 활용하여 가시적인 성능향상을 달성했다.\t\n",
    "- 네이버 영화리뷰 데이터 감성분석 정확도를 85% 이상 달성함"
   ]
  },
  {
   "cell_type": "code",
   "execution_count": 163,
   "id": "8d086e51",
   "metadata": {},
   "outputs": [
    {
     "name": "stdout",
     "output_type": "stream",
     "text": [
      "1.3.3\n",
      "0.5.2\n",
      "4.1.2\n"
     ]
    }
   ],
   "source": [
    "import pandas\n",
    "import konlpy\n",
    "import gensim\n",
    "import numpy as np\n",
    "import tensorflow as tf\n",
    "import os\n",
    "from konlpy.tag import Mecab\n",
    "import numpy as np\n",
    "from collections import Counter\n",
    "import matplotlib.pyplot as plt\n",
    "\n",
    "\n",
    "print(pandas.__version__)\n",
    "print(konlpy.__version__)\n",
    "print(gensim.__version__)"
   ]
  },
  {
   "cell_type": "code",
   "execution_count": 164,
   "id": "5038f7b8",
   "metadata": {},
   "outputs": [
    {
     "name": "stdout",
     "output_type": "stream",
     "text": [
      "(150000, 3)\n"
     ]
    },
    {
     "data": {
      "text/html": [
       "<div>\n",
       "<style scoped>\n",
       "    .dataframe tbody tr th:only-of-type {\n",
       "        vertical-align: middle;\n",
       "    }\n",
       "\n",
       "    .dataframe tbody tr th {\n",
       "        vertical-align: top;\n",
       "    }\n",
       "\n",
       "    .dataframe thead th {\n",
       "        text-align: right;\n",
       "    }\n",
       "</style>\n",
       "<table border=\"1\" class=\"dataframe\">\n",
       "  <thead>\n",
       "    <tr style=\"text-align: right;\">\n",
       "      <th></th>\n",
       "      <th>id</th>\n",
       "      <th>document</th>\n",
       "      <th>label</th>\n",
       "    </tr>\n",
       "  </thead>\n",
       "  <tbody>\n",
       "    <tr>\n",
       "      <th>0</th>\n",
       "      <td>9976970</td>\n",
       "      <td>아 더빙.. 진짜 짜증나네요 목소리</td>\n",
       "      <td>0</td>\n",
       "    </tr>\n",
       "    <tr>\n",
       "      <th>1</th>\n",
       "      <td>3819312</td>\n",
       "      <td>흠...포스터보고 초딩영화줄....오버연기조차 가볍지 않구나</td>\n",
       "      <td>1</td>\n",
       "    </tr>\n",
       "    <tr>\n",
       "      <th>2</th>\n",
       "      <td>10265843</td>\n",
       "      <td>너무재밓었다그래서보는것을추천한다</td>\n",
       "      <td>0</td>\n",
       "    </tr>\n",
       "    <tr>\n",
       "      <th>3</th>\n",
       "      <td>9045019</td>\n",
       "      <td>교도소 이야기구먼 ..솔직히 재미는 없다..평점 조정</td>\n",
       "      <td>0</td>\n",
       "    </tr>\n",
       "    <tr>\n",
       "      <th>4</th>\n",
       "      <td>6483659</td>\n",
       "      <td>사이몬페그의 익살스런 연기가 돋보였던 영화!스파이더맨에서 늙어보이기만 했던 커스틴 ...</td>\n",
       "      <td>1</td>\n",
       "    </tr>\n",
       "  </tbody>\n",
       "</table>\n",
       "</div>"
      ],
      "text/plain": [
       "         id                                           document  label\n",
       "0   9976970                                아 더빙.. 진짜 짜증나네요 목소리      0\n",
       "1   3819312                  흠...포스터보고 초딩영화줄....오버연기조차 가볍지 않구나      1\n",
       "2  10265843                                  너무재밓었다그래서보는것을추천한다      0\n",
       "3   9045019                      교도소 이야기구먼 ..솔직히 재미는 없다..평점 조정      0\n",
       "4   6483659  사이몬페그의 익살스런 연기가 돋보였던 영화!스파이더맨에서 늙어보이기만 했던 커스틴 ...      1"
      ]
     },
     "execution_count": 164,
     "metadata": {},
     "output_type": "execute_result"
    }
   ],
   "source": [
    "import pandas as pd\n",
    "\n",
    "# 데이터를 읽어봅시다. \n",
    "train_data = pd.read_table('~/aiffel/sentiment_classification/data/ratings_train.txt')\n",
    "test_data = pd.read_table('~/aiffel/sentiment_classification/data/ratings_test.txt')\n",
    "print(train_data.shape) #(150000, 3)\n",
    "train_data.head()"
   ]
  },
  {
   "cell_type": "markdown",
   "id": "9a90d284",
   "metadata": {},
   "source": [
    "## 데이터로더 구성\n",
    "\n",
    "- 데이터의 중복 제거\n",
    "- NaN 결측치 제거\n",
    "- 한국어 토크나이저로 토큰화\n",
    "- 불용어(Stopwords) 제거\n",
    "- 사전word_to_index 구성\n",
    "- 텍스트 스트링을 사전 인덱스 스트링으로 변환\n",
    "- X_train, y_train, X_test, y_test, word_to_index 리턴"
   ]
  },
  {
   "cell_type": "code",
   "execution_count": 165,
   "id": "81897c39",
   "metadata": {
    "scrolled": true
   },
   "outputs": [
    {
     "name": "stdout",
     "output_type": "stream",
     "text": [
      "<class 'pandas.core.frame.DataFrame'>\n",
      "RangeIndex: 150000 entries, 0 to 149999\n",
      "Data columns (total 3 columns):\n",
      " #   Column    Non-Null Count   Dtype \n",
      "---  ------    --------------   ----- \n",
      " 0   id        150000 non-null  int64 \n",
      " 1   document  149995 non-null  object\n",
      " 2   label     150000 non-null  int64 \n",
      "dtypes: int64(2), object(1)\n",
      "memory usage: 3.4+ MB\n"
     ]
    }
   ],
   "source": [
    "train_data.info() # 결측치 확인"
   ]
  },
  {
   "cell_type": "code",
   "execution_count": 277,
   "id": "a0326fdc",
   "metadata": {},
   "outputs": [],
   "source": [
    "# 토크나이저로 토큰화\n",
    "# 불용어 제거 등\n",
    "\n",
    "tokenizer = Mecab()\n",
    "stopwords = ['의','가','이','은','들','는','좀','잘','걍','과','도','를','으로','자','에','와','한','하다']\n",
    "\n",
    "def load_data(train_data, test_data, num_words=10000):\n",
    "    train_data.drop_duplicates(subset=['document'], inplace=True) # 중복행 제거\n",
    "    train_data = train_data.dropna(how = 'any') # 한값이라도 NA이면 해당 행 제거\n",
    "    test_data.drop_duplicates(subset=['document'], inplace=True) # 중복행 제거\n",
    "    test_data = test_data.dropna(how = 'any') # 한값이라도 NA이면 해당 행 제거\n",
    "    \n",
    "    X_train = []\n",
    "    for sentence in train_data['document']:\n",
    "        temp_X = tokenizer.morphs(sentence) # 토큰화\n",
    "        temp_X = [word for word in temp_X if not word in stopwords] # 불용어 제거\n",
    "        X_train.append(temp_X)\n",
    "\n",
    "    X_test = []\n",
    "    for sentence in test_data['document']:\n",
    "        temp_X = tokenizer.morphs(sentence) # 토큰화\n",
    "        temp_X = [word for word in temp_X if not word in stopwords] # 불용어 제거\n",
    "        X_test.append(temp_X)\n",
    "    \n",
    "    words = np.concatenate(X_train).tolist()   #tolist() 함수는 같은 위치의 데이터를 묶어준다\n",
    "    counter = Counter(words)\n",
    "    counter = counter.most_common(10000-4)\n",
    "    vocab = ['<PAD>', '<BOS>', '<UNK>', '<UNUSED>'] + [key for key, _ in counter]\n",
    "    word_to_index = {word:index for index, word in enumerate(vocab)}\n",
    "        \n",
    "    def wordlist_to_indexlist(wordlist):\n",
    "        return [word_to_index[word] if word in word_to_index \\\n",
    "                else word_to_index['<UNK>'] for word in wordlist]\n",
    "        \n",
    "    X_train = list(map(wordlist_to_indexlist, X_train))\n",
    "    X_test = list(map(wordlist_to_indexlist, X_test))\n",
    "        \n",
    "    return X_train, np.array(list(train_data['label'])), \\\n",
    "            X_test, np.array(list(test_data['label'])),word_to_index\n",
    "    \n",
    "x_train, y_train, x_test, y_test, word_to_index = load_data(train_data, test_data)\n",
    "index_to_word = {index:word for word, index in word_to_index.items()}"
   ]
  },
  {
   "cell_type": "code",
   "execution_count": 271,
   "id": "ec3154a6",
   "metadata": {},
   "outputs": [
    {
     "name": "stdout",
     "output_type": "stream",
     "text": [
      "146182\n"
     ]
    }
   ],
   "source": [
    "print(len(x_train))"
   ]
  },
  {
   "cell_type": "code",
   "execution_count": 278,
   "id": "e0013b69",
   "metadata": {},
   "outputs": [],
   "source": [
    "index_to_word = {index:word for word, index in word_to_index.items()}"
   ]
  },
  {
   "cell_type": "code",
   "execution_count": 169,
   "id": "5f449126",
   "metadata": {},
   "outputs": [],
   "source": [
    "# 문장 1개를 활용할 딕셔너리와 함께 주면, 단어 인덱스 리스트 벡터로 변환해 주는 함수입니다. \n",
    "# 단, 모든 문장은 <BOS>로 시작하는 것으로 합니다. \n",
    "def get_encoded_sentence(sentence, word_to_index):\n",
    "    return [word_to_index['<BOS>']]+[word_to_index[word] if word in word_to_index else word_to_index['<UNK>'] for word in sentence.split()]\n",
    "\n",
    "# 여러 개의 문장 리스트를 한꺼번에 단어 인덱스 리스트 벡터로 encode해 주는 함수입니다. \n",
    "def get_encoded_sentences(sentences, word_to_index):\n",
    "    return [get_encoded_sentence(sentence, word_to_index) for sentence in sentences]\n",
    "\n",
    "# 숫자 벡터로 encode된 문장을 원래대로 decode하는 함수입니다. \n",
    "def get_decoded_sentence(encoded_sentence, index_to_word):\n",
    "    return ' '.join(index_to_word[index] if index in index_to_word else '<UNK>' for index in encoded_sentence[1:])  #[1:]를 통해 <BOS>를 제외\n",
    "\n",
    "# 여러 개의 숫자 벡터로 encode된 문장을 한꺼번에 원래대로 decode하는 함수입니다. \n",
    "def get_decoded_sentences(encoded_sentences, index_to_word):\n",
    "    return [get_decoded_sentence(encoded_sentence, index_to_word) for encoded_sentence in encoded_sentences]"
   ]
  },
  {
   "cell_type": "markdown",
   "id": "793fd611",
   "metadata": {},
   "source": [
    "## 모델 구성을 위핸 데이터 분석 및 가공\n",
    "\n",
    "- 데이터셋 내 문장 길이 분포\n",
    "- 적절한 최대 문장 길이 지정\n",
    "- keras.preprocessing.sequence.pad_sequences 을 활용한 패딩 추가"
   ]
  },
  {
   "cell_type": "code",
   "execution_count": 170,
   "id": "eeec7d60",
   "metadata": {},
   "outputs": [
    {
     "name": "stdout",
     "output_type": "stream",
     "text": [
      "문장길이 평균 :  15.96940191154864\n",
      "문장길이 최대 :  116\n",
      "문장길이 표준편차 :  12.843571191092\n",
      "pad_sequences maxlen :  41\n",
      "전체 문장의 0.9342988343341575%가 maxlen 설정값 이내에 포함됩니다. \n"
     ]
    }
   ],
   "source": [
    "total_data_text = list(x_train) + list(x_test)\n",
    "# 텍스트데이터 문장길이의 리스트를 생성한 후\n",
    "num_tokens = [len(tokens) for tokens in total_data_text]\n",
    "num_tokens = np.array(num_tokens)\n",
    "# 문장길이의 평균값, 최대값, 표준편차를 계산해 본다. \n",
    "print('문장길이 평균 : ', np.mean(num_tokens))\n",
    "print('문장길이 최대 : ', np.max(num_tokens))\n",
    "print('문장길이 표준편차 : ', np.std(num_tokens))\n",
    "\n",
    "# 예를들어, 최대 길이를 (평균 + 2*표준편차)로 한다면,  \n",
    "max_tokens = np.mean(num_tokens) + 2 * np.std(num_tokens)\n",
    "maxlen = int(max_tokens)\n",
    "print('pad_sequences maxlen : ', maxlen)\n",
    "print(f'전체 문장의 \\\n",
    "{np.sum(num_tokens < max_tokens) / len(num_tokens)}%가 \\\n",
    "maxlen 설정값 이내에 포함됩니다. ')"
   ]
  },
  {
   "cell_type": "code",
   "execution_count": 171,
   "id": "1b90a12a",
   "metadata": {},
   "outputs": [
    {
     "name": "stdout",
     "output_type": "stream",
     "text": [
      "(146182, 41)\n"
     ]
    }
   ],
   "source": [
    "# 패딩방식은 pre(앞쪽에 패딩) 로 설정 순차학습이므로 post가 더 유리하다\n",
    "x_train = tf.keras.preprocessing.sequence.pad_sequences(x_train,\n",
    "                                                        value=word_to_index[\"<PAD>\"],\n",
    "                                                        padding='pre',\n",
    "                                                        maxlen=maxlen)\n",
    "\n",
    "x_test = tf.keras.preprocessing.sequence.pad_sequences(x_test,\n",
    "                                                       value=word_to_index[\"<PAD>\"],\n",
    "                                                       padding='pre',\n",
    "                                                       maxlen=maxlen)\n",
    "\n",
    "print(x_train.shape)"
   ]
  },
  {
   "cell_type": "markdown",
   "id": "ad1fd6f0",
   "metadata": {},
   "source": [
    "## 모델 구성 및 validation set 구성\n",
    "- 모델 3종류\n",
    "1. RNN\n",
    "1. 1-D CNN\n",
    "1. GlovalMaxPooling1D"
   ]
  },
  {
   "cell_type": "code",
   "execution_count": 172,
   "id": "07b0647c",
   "metadata": {},
   "outputs": [
    {
     "name": "stdout",
     "output_type": "stream",
     "text": [
      "(116182, 41)\n",
      "(116182,)\n"
     ]
    }
   ],
   "source": [
    "# val 비율 0.2 로 분리 약 30000\n",
    "\n",
    "# validation set 30000건 분리\n",
    "x_val = x_train[:30000]   \n",
    "y_val = y_train[:30000]\n",
    "\n",
    "# validation set을 제외한 나머지 \n",
    "partial_x_train = x_train[30000:]  \n",
    "partial_y_train = y_train[30000:]\n",
    "\n",
    "print(partial_x_train.shape)\n",
    "print(partial_y_train.shape)"
   ]
  },
  {
   "cell_type": "code",
   "execution_count": 173,
   "id": "0ef3d2bc",
   "metadata": {
    "scrolled": true
   },
   "outputs": [
    {
     "name": "stdout",
     "output_type": "stream",
     "text": [
      "Model: \"sequential_16\"\n",
      "_________________________________________________________________\n",
      "Layer (type)                 Output Shape              Param #   \n",
      "=================================================================\n",
      "embedding_16 (Embedding)     (None, None, 16)          160000    \n",
      "_________________________________________________________________\n",
      "lstm_3 (LSTM)                (None, 8)                 800       \n",
      "_________________________________________________________________\n",
      "dense_26 (Dense)             (None, 8)                 72        \n",
      "_________________________________________________________________\n",
      "dense_27 (Dense)             (None, 1)                 9         \n",
      "=================================================================\n",
      "Total params: 160,881\n",
      "Trainable params: 160,881\n",
      "Non-trainable params: 0\n",
      "_________________________________________________________________\n"
     ]
    }
   ],
   "source": [
    "#model1\n",
    "\n",
    "vocab_size = 20000  # 어휘 사전의 크기입니다(20000개의 단어)\n",
    "word_vector_dim = 16  # 단어 하나를 표현하는 임베딩 벡터의 차원수입니다. \n",
    "\n",
    "model1 = tf.keras.Sequential()\n",
    "model1.add(tf.keras.layers.Embedding(vocab_size, word_vector_dim, input_shape=(None,)))\n",
    "model1.add(tf.keras.layers.LSTM(8))   # 가장 널리 쓰이는 RNN인 LSTM 레이어를 사용하였습니다. 이때 LSTM state 벡터의 차원수는 8로 하였습니다. (변경 가능)\n",
    "model1.add(tf.keras.layers.Dense(8, activation='relu'))\n",
    "model1.add(tf.keras.layers.Dense(1, activation='sigmoid'))  # 최종 출력은 긍정/부정을 나타내는 1dim 입니다.\n",
    "\n",
    "model1.summary()"
   ]
  },
  {
   "cell_type": "code",
   "execution_count": 174,
   "id": "85c282e1",
   "metadata": {},
   "outputs": [
    {
     "name": "stdout",
     "output_type": "stream",
     "text": [
      "Model: \"sequential_17\"\n",
      "_________________________________________________________________\n",
      "Layer (type)                 Output Shape              Param #   \n",
      "=================================================================\n",
      "embedding_17 (Embedding)     (None, None, 16)          160000    \n",
      "_________________________________________________________________\n",
      "conv1d_14 (Conv1D)           (None, None, 16)          1808      \n",
      "_________________________________________________________________\n",
      "max_pooling1d_7 (MaxPooling1 (None, None, 16)          0         \n",
      "_________________________________________________________________\n",
      "conv1d_15 (Conv1D)           (None, None, 16)          1808      \n",
      "_________________________________________________________________\n",
      "global_max_pooling1d_10 (Glo (None, 16)                0         \n",
      "_________________________________________________________________\n",
      "dense_28 (Dense)             (None, 8)                 136       \n",
      "_________________________________________________________________\n",
      "dense_29 (Dense)             (None, 1)                 9         \n",
      "=================================================================\n",
      "Total params: 163,761\n",
      "Trainable params: 163,761\n",
      "Non-trainable params: 0\n",
      "_________________________________________________________________\n"
     ]
    }
   ],
   "source": [
    "#model2\n",
    "\n",
    "\"\"\"#1-D CNN은 문장 전체를 한꺼번에 한 방향으로 길이 7짜리 필터로 스캐닝 하면서 \n",
    "7단어 이내에서 발견되는 특징을 추출하여 그것으로 문장을 분류하는 방식으로 사용\n",
    "\"\"\"\n",
    "vocab_size = 20000  # 어휘 사전의 크기입니다(20000개의 단어)\n",
    "word_vector_dim = 16   # 단어 하나를 표현하는 임베딩 벡터의 차원 수입니다. \n",
    "\n",
    "model2 = tf.keras.Sequential()\n",
    "model2.add(tf.keras.layers.Embedding(vocab_size, word_vector_dim, input_shape=(None,)))\n",
    "model2.add(tf.keras.layers.Conv1D(16, 7, activation='relu'))\n",
    "model2.add(tf.keras.layers.MaxPooling1D(5))\n",
    "model2.add(tf.keras.layers.Conv1D(16, 7, activation='relu'))\n",
    "model2.add(tf.keras.layers.GlobalMaxPooling1D())\n",
    "model2.add(tf.keras.layers.Dense(8, activation='relu'))\n",
    "model2.add(tf.keras.layers.Dense(1, activation='sigmoid'))  # 최종 출력은 긍정/부정을 나타내는 1dim 입니다.\n",
    "\n",
    "model2.summary()"
   ]
  },
  {
   "cell_type": "code",
   "execution_count": 175,
   "id": "e99de7ea",
   "metadata": {
    "scrolled": false
   },
   "outputs": [
    {
     "name": "stdout",
     "output_type": "stream",
     "text": [
      "Model: \"sequential_18\"\n",
      "_________________________________________________________________\n",
      "Layer (type)                 Output Shape              Param #   \n",
      "=================================================================\n",
      "embedding_18 (Embedding)     (None, None, 16)          160000    \n",
      "_________________________________________________________________\n",
      "global_max_pooling1d_11 (Glo (None, 16)                0         \n",
      "_________________________________________________________________\n",
      "dense_30 (Dense)             (None, 8)                 136       \n",
      "_________________________________________________________________\n",
      "dense_31 (Dense)             (None, 1)                 9         \n",
      "=================================================================\n",
      "Total params: 160,145\n",
      "Trainable params: 160,145\n",
      "Non-trainable params: 0\n",
      "_________________________________________________________________\n"
     ]
    }
   ],
   "source": [
    "#model3\n",
    "\n",
    "# 전체 문장 중에서 단 하나의 가장 중요한 단어만 피처로 추출 하는 방식()\n",
    "# GlobalMaxPooling1D() 레이어 이용\n",
    "\n",
    "vocab_size = 20000  # 어휘 사전의 크기입니다(20000개의 단어)\n",
    "word_vector_dim = 16   # 단어 하나를 표현하는 임베딩 벡터의 차원 수입니다. \n",
    "\n",
    "model3 = tf.keras.Sequential()\n",
    "model3.add(tf.keras.layers.Embedding(vocab_size, word_vector_dim, input_shape=(None,)))\n",
    "model3.add(tf.keras.layers.GlobalMaxPooling1D())\n",
    "model3.add(tf.keras.layers.Dense(8, activation='relu'))\n",
    "model3.add(tf.keras.layers.Dense(1, activation='sigmoid'))  # 최종 출력은 긍정/부정을 나타내는 1dim 입니다.\n",
    "\n",
    "model3.summary()"
   ]
  },
  {
   "cell_type": "markdown",
   "id": "f9781293",
   "metadata": {},
   "source": [
    "## 모델 훈련 개시"
   ]
  },
  {
   "cell_type": "code",
   "execution_count": 176,
   "id": "3b9e001f",
   "metadata": {
    "scrolled": true
   },
   "outputs": [
    {
     "name": "stdout",
     "output_type": "stream",
     "text": [
      "Epoch 1/20\n",
      "286/286 [==============================] - 3s 7ms/step - loss: 0.5035 - accuracy: 0.7623 - val_loss: 0.3426 - val_accuracy: 0.8599\n",
      "Epoch 2/20\n",
      "286/286 [==============================] - 2s 6ms/step - loss: 0.3401 - accuracy: 0.8567 - val_loss: 0.3042 - val_accuracy: 0.8782\n",
      "Epoch 3/20\n",
      "286/286 [==============================] - 2s 6ms/step - loss: 0.3163 - accuracy: 0.8680 - val_loss: 0.2947 - val_accuracy: 0.8796\n",
      "Epoch 4/20\n",
      "286/286 [==============================] - 2s 6ms/step - loss: 0.3035 - accuracy: 0.8737 - val_loss: 0.2784 - val_accuracy: 0.8893\n",
      "Epoch 5/20\n",
      "286/286 [==============================] - 2s 6ms/step - loss: 0.2921 - accuracy: 0.8788 - val_loss: 0.2657 - val_accuracy: 0.8935\n",
      "Epoch 6/20\n",
      "286/286 [==============================] - 2s 6ms/step - loss: 0.2810 - accuracy: 0.8838 - val_loss: 0.2552 - val_accuracy: 0.8989\n",
      "Epoch 7/20\n",
      "286/286 [==============================] - 2s 6ms/step - loss: 0.2694 - accuracy: 0.8892 - val_loss: 0.2444 - val_accuracy: 0.9041\n",
      "Epoch 8/20\n",
      "286/286 [==============================] - 2s 6ms/step - loss: 0.2581 - accuracy: 0.8950 - val_loss: 0.2332 - val_accuracy: 0.9105\n",
      "Epoch 9/20\n",
      "286/286 [==============================] - 2s 6ms/step - loss: 0.2469 - accuracy: 0.8997 - val_loss: 0.2225 - val_accuracy: 0.9132\n",
      "Epoch 10/20\n",
      "286/286 [==============================] - 2s 6ms/step - loss: 0.2358 - accuracy: 0.9049 - val_loss: 0.2115 - val_accuracy: 0.9170\n",
      "Epoch 11/20\n",
      "286/286 [==============================] - 2s 6ms/step - loss: 0.2267 - accuracy: 0.9094 - val_loss: 0.2014 - val_accuracy: 0.9221\n",
      "Epoch 12/20\n",
      "286/286 [==============================] - 2s 6ms/step - loss: 0.2171 - accuracy: 0.9128 - val_loss: 0.1947 - val_accuracy: 0.9252\n",
      "Epoch 13/20\n",
      "286/286 [==============================] - 2s 6ms/step - loss: 0.2083 - accuracy: 0.9173 - val_loss: 0.1887 - val_accuracy: 0.9293\n",
      "Epoch 14/20\n",
      "286/286 [==============================] - 2s 6ms/step - loss: 0.1998 - accuracy: 0.9216 - val_loss: 0.1789 - val_accuracy: 0.9335\n",
      "Epoch 15/20\n",
      "286/286 [==============================] - 2s 6ms/step - loss: 0.1920 - accuracy: 0.9253 - val_loss: 0.1704 - val_accuracy: 0.9370\n",
      "Epoch 16/20\n",
      "286/286 [==============================] - 2s 6ms/step - loss: 0.1849 - accuracy: 0.9283 - val_loss: 0.1675 - val_accuracy: 0.9381\n",
      "Epoch 17/20\n",
      "286/286 [==============================] - 2s 6ms/step - loss: 0.1779 - accuracy: 0.9319 - val_loss: 0.1582 - val_accuracy: 0.9433\n",
      "Epoch 18/20\n",
      "286/286 [==============================] - 2s 6ms/step - loss: 0.1735 - accuracy: 0.9337 - val_loss: 0.1681 - val_accuracy: 0.9364\n",
      "Epoch 19/20\n",
      "286/286 [==============================] - 2s 6ms/step - loss: 0.1655 - accuracy: 0.9381 - val_loss: 0.1486 - val_accuracy: 0.9474\n",
      "Epoch 20/20\n",
      "286/286 [==============================] - 2s 6ms/step - loss: 0.1591 - accuracy: 0.9404 - val_loss: 0.1424 - val_accuracy: 0.9501\n"
     ]
    }
   ],
   "source": [
    "epochs=20  # 몇 epoch를 훈련하면 좋을지 결과를 보면서 바꾸어 봅시다.\n",
    "\n",
    "\n",
    "model1.compile(optimizer='adam',\n",
    "              loss='binary_crossentropy',\n",
    "              metrics=['accuracy'])\n",
    "\n",
    "history1 = model1.fit(x_train,\n",
    "                    y_train,\n",
    "                    epochs=epochs,\n",
    "                    batch_size=512,\n",
    "                    validation_data=(x_val, y_val),\n",
    "                    verbose=1)"
   ]
  },
  {
   "cell_type": "code",
   "execution_count": 177,
   "id": "dfbeec8f",
   "metadata": {},
   "outputs": [
    {
     "name": "stdout",
     "output_type": "stream",
     "text": [
      "20\n"
     ]
    }
   ],
   "source": [
    "print(epochs)"
   ]
  },
  {
   "cell_type": "code",
   "execution_count": 178,
   "id": "de0cabd2",
   "metadata": {},
   "outputs": [
    {
     "name": "stdout",
     "output_type": "stream",
     "text": [
      "Epoch 1/20\n",
      "286/286 [==============================] - 2s 5ms/step - loss: 0.4682 - accuracy: 0.7649 - val_loss: 0.3195 - val_accuracy: 0.8685\n",
      "Epoch 2/20\n",
      "286/286 [==============================] - 1s 5ms/step - loss: 0.3219 - accuracy: 0.8637 - val_loss: 0.2774 - val_accuracy: 0.8883\n",
      "Epoch 3/20\n",
      "286/286 [==============================] - 1s 5ms/step - loss: 0.2870 - accuracy: 0.8812 - val_loss: 0.2438 - val_accuracy: 0.9060\n",
      "Epoch 4/20\n",
      "286/286 [==============================] - 1s 5ms/step - loss: 0.2583 - accuracy: 0.8958 - val_loss: 0.2129 - val_accuracy: 0.9228\n",
      "Epoch 5/20\n",
      "286/286 [==============================] - 1s 5ms/step - loss: 0.2269 - accuracy: 0.9114 - val_loss: 0.1797 - val_accuracy: 0.9376\n",
      "Epoch 6/20\n",
      "286/286 [==============================] - 1s 5ms/step - loss: 0.1971 - accuracy: 0.9256 - val_loss: 0.1501 - val_accuracy: 0.9495\n",
      "Epoch 7/20\n",
      "286/286 [==============================] - 1s 5ms/step - loss: 0.1687 - accuracy: 0.9391 - val_loss: 0.1255 - val_accuracy: 0.9612\n",
      "Epoch 8/20\n",
      "286/286 [==============================] - 1s 5ms/step - loss: 0.1438 - accuracy: 0.9493 - val_loss: 0.1095 - val_accuracy: 0.9655\n",
      "Epoch 9/20\n",
      "286/286 [==============================] - 1s 5ms/step - loss: 0.1232 - accuracy: 0.9587 - val_loss: 0.0899 - val_accuracy: 0.9738\n",
      "Epoch 10/20\n",
      "286/286 [==============================] - 1s 5ms/step - loss: 0.1075 - accuracy: 0.9650 - val_loss: 0.0812 - val_accuracy: 0.9760\n",
      "Epoch 11/20\n",
      "286/286 [==============================] - 1s 5ms/step - loss: 0.0927 - accuracy: 0.9706 - val_loss: 0.0679 - val_accuracy: 0.9803\n",
      "Epoch 12/20\n",
      "286/286 [==============================] - 1s 5ms/step - loss: 0.0814 - accuracy: 0.9746 - val_loss: 0.0589 - val_accuracy: 0.9831\n",
      "Epoch 13/20\n",
      "286/286 [==============================] - 1s 5ms/step - loss: 0.0727 - accuracy: 0.9779 - val_loss: 0.0550 - val_accuracy: 0.9846\n",
      "Epoch 14/20\n",
      "286/286 [==============================] - 1s 5ms/step - loss: 0.0662 - accuracy: 0.9797 - val_loss: 0.0489 - val_accuracy: 0.9861\n",
      "Epoch 15/20\n",
      "286/286 [==============================] - 1s 5ms/step - loss: 0.0598 - accuracy: 0.9821 - val_loss: 0.0445 - val_accuracy: 0.9883\n",
      "Epoch 16/20\n",
      "286/286 [==============================] - 1s 5ms/step - loss: 0.0547 - accuracy: 0.9836 - val_loss: 0.0415 - val_accuracy: 0.9884\n",
      "Epoch 17/20\n",
      "286/286 [==============================] - 1s 5ms/step - loss: 0.0511 - accuracy: 0.9845 - val_loss: 0.0383 - val_accuracy: 0.9891\n",
      "Epoch 18/20\n",
      "286/286 [==============================] - 1s 5ms/step - loss: 0.0484 - accuracy: 0.9852 - val_loss: 0.0380 - val_accuracy: 0.9893\n",
      "Epoch 19/20\n",
      "286/286 [==============================] - 1s 5ms/step - loss: 0.0467 - accuracy: 0.9859 - val_loss: 0.0348 - val_accuracy: 0.9903\n",
      "Epoch 20/20\n",
      "286/286 [==============================] - 1s 5ms/step - loss: 0.0435 - accuracy: 0.9866 - val_loss: 0.0334 - val_accuracy: 0.9904\n"
     ]
    }
   ],
   "source": [
    "model2.compile(optimizer='adam',\n",
    "              loss='binary_crossentropy',\n",
    "              metrics=['accuracy'])\n",
    "\n",
    "\n",
    "history2 = model2.fit(x_train,\n",
    "                    y_train,\n",
    "                    epochs=epochs,\n",
    "                    batch_size=512,\n",
    "                    validation_data=(x_val, y_val),\n",
    "                    verbose=1)"
   ]
  },
  {
   "cell_type": "code",
   "execution_count": 179,
   "id": "eb97e61b",
   "metadata": {},
   "outputs": [
    {
     "name": "stdout",
     "output_type": "stream",
     "text": [
      "20\n"
     ]
    }
   ],
   "source": [
    "print(epochs)"
   ]
  },
  {
   "cell_type": "code",
   "execution_count": 180,
   "id": "ee9d1056",
   "metadata": {},
   "outputs": [
    {
     "name": "stdout",
     "output_type": "stream",
     "text": [
      "Epoch 1/20\n",
      "286/286 [==============================] - 1s 4ms/step - loss: 0.5667 - accuracy: 0.7700 - val_loss: 0.3940 - val_accuracy: 0.8367\n",
      "Epoch 2/20\n",
      "286/286 [==============================] - 1s 3ms/step - loss: 0.3648 - accuracy: 0.8418 - val_loss: 0.3184 - val_accuracy: 0.8649\n",
      "Epoch 3/20\n",
      "286/286 [==============================] - 1s 4ms/step - loss: 0.3217 - accuracy: 0.8640 - val_loss: 0.2871 - val_accuracy: 0.8813\n",
      "Epoch 4/20\n",
      "286/286 [==============================] - 1s 3ms/step - loss: 0.2971 - accuracy: 0.8757 - val_loss: 0.2662 - val_accuracy: 0.8918\n",
      "Epoch 5/20\n",
      "286/286 [==============================] - 1s 4ms/step - loss: 0.2790 - accuracy: 0.8850 - val_loss: 0.2494 - val_accuracy: 0.9002\n",
      "Epoch 6/20\n",
      "286/286 [==============================] - 1s 4ms/step - loss: 0.2641 - accuracy: 0.8928 - val_loss: 0.2356 - val_accuracy: 0.9069\n",
      "Epoch 7/20\n",
      "286/286 [==============================] - 1s 4ms/step - loss: 0.2516 - accuracy: 0.8979 - val_loss: 0.2236 - val_accuracy: 0.9122\n",
      "Epoch 8/20\n",
      "286/286 [==============================] - 1s 4ms/step - loss: 0.2408 - accuracy: 0.9034 - val_loss: 0.2121 - val_accuracy: 0.9187\n",
      "Epoch 9/20\n",
      "286/286 [==============================] - 1s 3ms/step - loss: 0.2308 - accuracy: 0.9080 - val_loss: 0.2027 - val_accuracy: 0.9234\n",
      "Epoch 10/20\n",
      "286/286 [==============================] - 1s 3ms/step - loss: 0.2219 - accuracy: 0.9127 - val_loss: 0.1941 - val_accuracy: 0.9274\n",
      "Epoch 11/20\n",
      "286/286 [==============================] - 1s 4ms/step - loss: 0.2136 - accuracy: 0.9167 - val_loss: 0.1863 - val_accuracy: 0.9310\n",
      "Epoch 12/20\n",
      "286/286 [==============================] - 1s 4ms/step - loss: 0.2063 - accuracy: 0.9202 - val_loss: 0.1790 - val_accuracy: 0.9341\n",
      "Epoch 13/20\n",
      "286/286 [==============================] - 1s 4ms/step - loss: 0.1993 - accuracy: 0.9232 - val_loss: 0.1733 - val_accuracy: 0.9371\n",
      "Epoch 14/20\n",
      "286/286 [==============================] - 1s 4ms/step - loss: 0.1931 - accuracy: 0.9262 - val_loss: 0.1673 - val_accuracy: 0.9399\n",
      "Epoch 15/20\n",
      "286/286 [==============================] - 1s 4ms/step - loss: 0.1872 - accuracy: 0.9289 - val_loss: 0.1614 - val_accuracy: 0.9428\n",
      "Epoch 16/20\n",
      "286/286 [==============================] - 1s 4ms/step - loss: 0.1815 - accuracy: 0.9317 - val_loss: 0.1554 - val_accuracy: 0.9465\n",
      "Epoch 17/20\n",
      "286/286 [==============================] - 1s 4ms/step - loss: 0.1758 - accuracy: 0.9346 - val_loss: 0.1496 - val_accuracy: 0.9478\n",
      "Epoch 18/20\n",
      "286/286 [==============================] - 1s 4ms/step - loss: 0.1704 - accuracy: 0.9372 - val_loss: 0.1448 - val_accuracy: 0.9496\n",
      "Epoch 19/20\n",
      "286/286 [==============================] - 1s 4ms/step - loss: 0.1652 - accuracy: 0.9398 - val_loss: 0.1391 - val_accuracy: 0.9531\n",
      "Epoch 20/20\n",
      "286/286 [==============================] - 1s 4ms/step - loss: 0.1604 - accuracy: 0.9418 - val_loss: 0.1351 - val_accuracy: 0.9540\n"
     ]
    }
   ],
   "source": [
    "model3.compile(optimizer='adam',\n",
    "              loss='binary_crossentropy',\n",
    "              metrics=['accuracy'])\n",
    "              \n",
    "\n",
    "history3 = model3.fit(x_train,\n",
    "                    y_train,\n",
    "                    epochs=epochs,\n",
    "                    batch_size=512,\n",
    "                    validation_data=(x_val, y_val),\n",
    "                    verbose=1)"
   ]
  },
  {
   "cell_type": "markdown",
   "id": "624db470",
   "metadata": {},
   "source": [
    "## Loss, Accuracy 시각화"
   ]
  },
  {
   "cell_type": "code",
   "execution_count": 181,
   "id": "b279bdee",
   "metadata": {},
   "outputs": [
    {
     "data": {
      "text/plain": [
       "Text(0.5, 1.0, 'model3_acc')"
      ]
     },
     "execution_count": 181,
     "metadata": {},
     "output_type": "execute_result"
    },
    {
     "data": {
      "image/png": "[encoded data removed]",
      "text/plain": [
       "<Figure size 720x720 with 6 Axes>"
      ]
     },
     "metadata": {
      "needs_background": "light"
     },
     "output_type": "display_data"
    }
   ],
   "source": [
    "epoch = np.arange(1,epochs+1)\n",
    "plt.figure(figsize=(10,10))\n",
    "plt.subplot(321)\n",
    "plt.scatter(epoch,history1.history['loss'], label='loss')\n",
    "plt.plot(epoch,history1.history['val_loss'], label='val_loss')\n",
    "plt.legend()\n",
    "plt.title(\"model1_loss\")\n",
    "plt.subplot(322)\n",
    "plt.scatter(epoch,history1.history['accuracy'], label='accuracy')\n",
    "plt.plot(epoch,history1.history['val_accuracy'], label='val_accracy')\n",
    "plt.legend()\n",
    "plt.title(\"model1_acc\")\n",
    "\n",
    "plt.subplot(323)\n",
    "plt.scatter(epoch,history2.history['loss'], label='loss')\n",
    "plt.plot(epoch,history2.history['val_loss'], label='val_loss')\n",
    "plt.legend()\n",
    "plt.title(\"model2_loss\")\n",
    "plt.subplot(324)\n",
    "plt.scatter(epoch,history2.history['accuracy'], label='accuracy')\n",
    "plt.plot(epoch,history2.history['val_accuracy'], label='val_accracy')\n",
    "plt.legend()\n",
    "plt.title(\"model2_acc\")\n",
    "\n",
    "plt.subplot(325)\n",
    "plt.scatter(epoch,history3.history['loss'], label='loss')\n",
    "plt.plot(epoch,history3.history['val_loss'], label='val_loss')\n",
    "plt.legend()\n",
    "plt.title(\"model3_loss\")\n",
    "plt.subplot(326)\n",
    "plt.scatter(epoch,history3.history['accuracy'], label='accuracy')\n",
    "plt.plot(epoch,history3.history['val_accuracy'], label='val_accracy')\n",
    "plt.legend()\n",
    "plt.title(\"model3_acc\")"
   ]
  },
  {
   "cell_type": "code",
   "execution_count": 182,
   "id": "e96a740c",
   "metadata": {},
   "outputs": [
    {
     "name": "stdout",
     "output_type": "stream",
     "text": [
      "1537/1537 - 3s - loss: 0.5001 - accuracy: 0.8429\n",
      "1537/1537 - 2s - loss: 0.9459 - accuracy: 0.8146\n",
      "1537/1537 - 2s - loss: 0.4979 - accuracy: 0.8286\n",
      "evaluate model1 : [0.5000580549240112, 0.842870831489563]\n",
      "evaluate model2 : [0.9458544254302979, 0.814594030380249]\n",
      "evaluate model3 : [0.49790453910827637, 0.8285697102546692]\n"
     ]
    }
   ],
   "source": [
    "results1 = model1.evaluate(x_test,  y_test, verbose=2)\n",
    "results2 = model2.evaluate(x_test,  y_test, verbose=2)\n",
    "results3 = model3.evaluate(x_test,  y_test, verbose=2)\n",
    "\n",
    "print(\"evaluate model1 :\",results1) # loss, accuracy\n",
    "print(\"evaluate model2 :\",results2)\n",
    "print(\"evaluate model3 :\",results3)"
   ]
  },
  {
   "cell_type": "markdown",
   "id": "3b0179af",
   "metadata": {},
   "source": [
    "## 학습된 Embedding 레이어 분석"
   ]
  },
  {
   "cell_type": "code",
   "execution_count": 183,
   "id": "6fba8318",
   "metadata": {},
   "outputs": [],
   "source": [
    "from gensim.models.keyedvectors import Word2VecKeyedVectors"
   ]
  },
  {
   "cell_type": "code",
   "execution_count": 184,
   "id": "2ff58034",
   "metadata": {
    "scrolled": true
   },
   "outputs": [
    {
     "name": "stdout",
     "output_type": "stream",
     "text": [
      "(10000, 16)\n"
     ]
    }
   ],
   "source": [
    "embedding_layer1 = model1.layers[0]\n",
    "weights = embedding_layer.get_weights()[0]\n",
    "print(weights.shape)    # shape: (vocab_size, embedding_dim)"
   ]
  },
  {
   "cell_type": "code",
   "execution_count": 190,
   "id": "db73b137",
   "metadata": {},
   "outputs": [],
   "source": [
    "vectors = model1.get_weights()[0]"
   ]
  },
  {
   "cell_type": "code",
   "execution_count": 194,
   "id": "2f4f6be8",
   "metadata": {},
   "outputs": [],
   "source": [
    "# 학습한 Embedding 파라미터를 파일에 써서 저장합니다. \n",
    "word2vec_file_path = os.getenv('HOME')+'/aiffel/sentiment_classification/data/word2vec.txt'\n",
    "f = open(word2vec_file_path, 'w')\n",
    "f.write('{} {}\\n'.format(vocab_size-4, word_vector_dim))  # 몇개의 벡터를 얼마 사이즈로 기재할지 타이틀을 씁니다.\n",
    "\n",
    "# 단어 개수(에서 특수문자 4개는 제외하고)만큼의 워드 벡터를 파일에 기록합니다. \n",
    "vectors = model1.get_weights()[0]\n",
    "for i in range(4,vocab_size):\n",
    "    f.write('{} {}\\n'.format(index_to_word[i], ' '.join(map(str, list(vectors[i, :])))))\n",
    "f.close()"
   ]
  },
  {
   "cell_type": "code",
   "execution_count": 195,
   "id": "152e43e4",
   "metadata": {},
   "outputs": [],
   "source": [
    "word_vectors = Word2VecKeyedVectors.load_word2vec_format(word2vec_file_path, \n",
    "                                                         binary=False)"
   ]
  },
  {
   "cell_type": "code",
   "execution_count": 196,
   "id": "e5b642dd",
   "metadata": {
    "scrolled": true
   },
   "outputs": [
    {
     "data": {
      "text/plain": [
       "array([-0.11393797, -0.0866005 ,  0.05155396, -0.10273917,  0.06135849,\n",
       "        0.03540641,  0.05073766,  0.04937863, -0.00370257,  0.0088126 ,\n",
       "        0.04279099,  0.13653907, -0.05850383, -0.15979654,  0.17003392,\n",
       "       -0.09303015], dtype=float32)"
      ]
     },
     "execution_count": 196,
     "metadata": {},
     "output_type": "execute_result"
    }
   ],
   "source": [
    "vector = word_vectors['추천']\n",
    "vector"
   ]
  },
  {
   "cell_type": "code",
   "execution_count": 197,
   "id": "1c715300",
   "metadata": {
    "scrolled": false
   },
   "outputs": [
    {
     "data": {
      "text/plain": [
       "[('태어났', 0.9419277310371399),\n",
       " ('연인', 0.9350699782371521),\n",
       " ('멋있', 0.9345325827598572),\n",
       " ('정점', 0.9289713501930237),\n",
       " ('웰메이드', 0.9248459339141846),\n",
       " ('별거', 0.9238653779029846),\n",
       " ('엘리자베스', 0.9219996333122253),\n",
       " ('재', 0.9209121465682983),\n",
       " ('쿵', 0.9165334701538086),\n",
       " ('슬펐', 0.916050910949707)]"
      ]
     },
     "execution_count": 197,
     "metadata": {},
     "output_type": "execute_result"
    }
   ],
   "source": [
    "word_vectors.similar_by_word(\"추천\")"
   ]
  },
  {
   "cell_type": "code",
   "execution_count": 204,
   "id": "27621eef",
   "metadata": {},
   "outputs": [],
   "source": [
    "# 학습한 Embedding 파라미터를 파일에 써서 저장합니다. \n",
    "word2vec_file_path2 = os.getenv('HOME')+'/aiffel/sentiment_classification/data/word2vec2.txt'\n",
    "f = open(word2vec_file_path2, 'w')\n",
    "f.write('{} {}\\n'.format(vocab_size-4, word_vector_dim))  # 몇개의 벡터를 얼마 사이즈로 기재할지 타이틀을 씁니다.\n",
    "\n",
    "# 단어 개수(에서 특수문자 4개는 제외하고)만큼의 워드 벡터를 파일에 기록합니다. \n",
    "vectors2 = model2.get_weights()[0]\n",
    "for i in range(4,vocab_size):\n",
    "    f.write('{} {}\\n'.format(index_to_word[i], ' '.join(map(str, list(vectors2[i, :])))))\n",
    "f.close()"
   ]
  },
  {
   "cell_type": "code",
   "execution_count": 205,
   "id": "5073873f",
   "metadata": {},
   "outputs": [],
   "source": [
    "word_vectors2 = Word2VecKeyedVectors.load_word2vec_format(word2vec_file_path2, \n",
    "                                                         binary=False)"
   ]
  },
  {
   "cell_type": "code",
   "execution_count": 206,
   "id": "137ea6e2",
   "metadata": {},
   "outputs": [
    {
     "name": "stdout",
     "output_type": "stream",
     "text": [
      "[-0.11393797 -0.0866005   0.05155396 -0.10273917  0.06135849  0.03540641\n",
      "  0.05073766  0.04937863 -0.00370257  0.0088126   0.04279099  0.13653907\n",
      " -0.05850383 -0.15979654  0.17003392 -0.09303015]\n"
     ]
    }
   ],
   "source": [
    "print(word_vectors2['추천'])"
   ]
  },
  {
   "cell_type": "code",
   "execution_count": 208,
   "id": "fd84ea5c",
   "metadata": {
    "scrolled": true
   },
   "outputs": [
    {
     "data": {
      "text/plain": [
       "[('들이', 0.8550694584846497),\n",
       " ('애뜻', 0.8397676348686218),\n",
       " ('편한', 0.8331862092018127),\n",
       " ('시초', 0.8220164179801941),\n",
       " ('담겨져', 0.8166105151176453),\n",
       " ('정주', 0.8086801767349243),\n",
       " ('차가운', 0.8032389283180237),\n",
       " ('진정한', 0.8001846671104431),\n",
       " ('혁', 0.7934678196907043),\n",
       " ('불패', 0.7921778559684753)]"
      ]
     },
     "execution_count": 208,
     "metadata": {},
     "output_type": "execute_result"
    }
   ],
   "source": [
    "word_vectors2.similar_by_word(\"추천\")"
   ]
  },
  {
   "cell_type": "code",
   "execution_count": 209,
   "id": "58cb01e5",
   "metadata": {},
   "outputs": [],
   "source": [
    "# 학습한 Embedding 파라미터를 파일에 써서 저장합니다. \n",
    "word2vec_file_path3 = os.getenv('HOME')+'/aiffel/sentiment_classification/data/word2vec3.txt'\n",
    "f = open(word2vec_file_path3, 'w')\n",
    "f.write('{} {}\\n'.format(vocab_size-4, word_vector_dim))  # 몇개의 벡터를 얼마 사이즈로 기재할지 타이틀을 씁니다.\n",
    "\n",
    "# 단어 개수(에서 특수문자 4개는 제외하고)만큼의 워드 벡터를 파일에 기록합니다. \n",
    "vectors3 = model3.get_weights()[0]\n",
    "for i in range(4,vocab_size):\n",
    "    f.write('{} {}\\n'.format(index_to_word[i], ' '.join(map(str, list(vectors3[i, :])))))\n",
    "f.close()"
   ]
  },
  {
   "cell_type": "code",
   "execution_count": 215,
   "id": "257b927a",
   "metadata": {},
   "outputs": [],
   "source": [
    "word_vectors3 = Word2VecKeyedVectors.load_word2vec_format(word2vec_file_path3, \n",
    "                                                         binary=False)"
   ]
  },
  {
   "cell_type": "code",
   "execution_count": 216,
   "id": "bebea7d3",
   "metadata": {},
   "outputs": [
    {
     "name": "stdout",
     "output_type": "stream",
     "text": [
      "[-0.27551362 -0.01055181 -0.21136653 -0.05285043 -0.13584207  0.14162564\n",
      " -0.2239629  -0.01336387 -0.01052071  0.20940925 -0.10745393 -0.26380843\n",
      "  0.03448087  0.12176371 -0.2601429  -0.13000713]\n"
     ]
    }
   ],
   "source": [
    "print(word_vectors3['추천'])"
   ]
  },
  {
   "cell_type": "code",
   "execution_count": 217,
   "id": "1a9199aa",
   "metadata": {},
   "outputs": [
    {
     "name": "stdout",
     "output_type": "stream",
     "text": [
      "[('아담샌들러', 0.8263019323348999), ('초창기', 0.8233789205551147), ('또', 0.8227499723434448), ('죽인다', 0.8227427005767822), ('어떨까', 0.8139855861663818), ('휴잭맨', 0.8112059831619263), ('원표', 0.8076626658439636), ('아담', 0.8044823408126831), ('되게', 0.8015431761741638), ('움', 0.7987748980522156)]\n"
     ]
    }
   ],
   "source": [
    "print(word_vectors3.similar_by_word(\"추천\"))"
   ]
  },
  {
   "cell_type": "code",
   "execution_count": 218,
   "id": "c3db6fdb",
   "metadata": {},
   "outputs": [],
   "source": [
    "from gensim.models.keyedvectors import Word2VecKeyedVectors\n",
    "word2vec_file_path1 = os.getenv('HOME')+'/aiffel/word_embadding/word2vec_ko.model'\n",
    "word2vec_pre = Word2VecKeyedVectors.load(word2vec_file_path1)"
   ]
  },
  {
   "cell_type": "code",
   "execution_count": 219,
   "id": "5ceba760",
   "metadata": {},
   "outputs": [
    {
     "data": {
      "text/plain": [
       "[('천거', 0.7103838920593262),\n",
       " ('초빙', 0.687961220741272),\n",
       " ('초청', 0.6826260089874268),\n",
       " ('위촉', 0.6571412682533264),\n",
       " ('포상', 0.6499664783477783),\n",
       " ('선출', 0.6489635705947876),\n",
       " ('소개', 0.6427397727966309),\n",
       " ('임명', 0.6394351124763489),\n",
       " ('등용', 0.6328903436660767),\n",
       " ('추대', 0.6315879225730896)]"
      ]
     },
     "execution_count": 219,
     "metadata": {},
     "output_type": "execute_result"
    }
   ],
   "source": [
    "word2vec_pre.wv.similar_by_word('추천')"
   ]
  },
  {
   "cell_type": "markdown",
   "id": "6d0a969c",
   "metadata": {},
   "source": [
    "## 자체 학습과 사전학습된 레이어 비교\n",
    "\n",
    "### 모델간 비교\n",
    "\n",
    "- 자체 학습별로 다른 유사한 단어가 추출 되었다.\n",
    "- 같은 데이터라도 다른 학습방식이 적용되면 유사한 단어 추출시 다른 결과가 출력된다\n",
    "- 학습방식에 따라 가중치를 갱신하는 방식이 달라 각 단어벡터의 값이 다르기 떄문이다\n",
    "\n",
    "### 자체-사전 학습간 비교\n",
    "\n",
    "- 같은 단어와 유사한 단어를 추출하였을때 다른 결과가 출력되었다\n",
    "- 기반이 되는 학습 데이터가 다르기 때문에 나타날 수 밖에 없는 결과로 보인다.\n",
    "- 사전 학습 결과는 다소 사전적인 의미기준으로 유사 단어를 출력해준다"
   ]
  },
  {
   "cell_type": "markdown",
   "id": "89302916",
   "metadata": {},
   "source": [
    "## 한국어 Word2Vec 임베딩 활용하여 성능 개선"
   ]
  },
  {
   "cell_type": "code",
   "execution_count": 264,
   "id": "9acd5151",
   "metadata": {},
   "outputs": [],
   "source": [
    "from gensim.models import KeyedVectors\n",
    "# 사전 학습된 한국어 Word2Vec 임베딩 다시 읽기 \n",
    "\n",
    "word2vec_file_path1 = os.getenv('HOME')+'/aiffel/word_embadding/word2vec_ko.model'\n",
    "word2vec_pre = Word2VecKeyedVectors.load(word2vec_file_path1)"
   ]
  },
  {
   "cell_type": "code",
   "execution_count": 269,
   "id": "955faf07",
   "metadata": {},
   "outputs": [
    {
     "data": {
      "text/plain": [
       "302960"
      ]
     },
     "execution_count": 269,
     "metadata": {},
     "output_type": "execute_result"
    }
   ],
   "source": [
    "len(word2vec_pre.wv)"
   ]
  },
  {
   "cell_type": "markdown",
   "id": "d7688aa0",
   "metadata": {},
   "source": [
    "- 단어사전 크기 25000으로 증가"
   ]
  },
  {
   "cell_type": "code",
   "execution_count": 330,
   "id": "7086dda3",
   "metadata": {},
   "outputs": [],
   "source": [
    "def load_data(train_data, test_data, num_words=25000):\n",
    "    train_data.drop_duplicates(subset=['document'], inplace=True) # 중복행 제거\n",
    "    train_data = train_data.dropna(how = 'any') # 한값이라도 NA이면 해당 행 제거\n",
    "    test_data.drop_duplicates(subset=['document'], inplace=True) # 중복행 제거\n",
    "    test_data = test_data.dropna(how = 'any') # 한값이라도 NA이면 해당 행 제거\n",
    "    \n",
    "    X_train = []\n",
    "    for sentence in train_data['document']:\n",
    "        temp_X = tokenizer.morphs(sentence) # 토큰화\n",
    "        temp_X = [word for word in temp_X if not word in stopwords] # 불용어 제거\n",
    "        X_train.append(temp_X)\n",
    "\n",
    "    X_test = []\n",
    "    for sentence in test_data['document']:\n",
    "        temp_X = tokenizer.morphs(sentence) # 토큰화\n",
    "        temp_X = [word for word in temp_X if not word in stopwords] # 불용어 제거\n",
    "        X_test.append(temp_X)\n",
    "    \n",
    "    words = np.concatenate(X_train).tolist()   #tolist() 함수는 같은 위치의 데이터를 묶어준다\n",
    "    counter = Counter(words)\n",
    "    counter = counter.most_common(25000-4)\n",
    "    vocab = ['<PAD>', '<BOS>', '<UNK>', '<UNUSED>'] + [key for key, _ in counter]\n",
    "    word_to_index = {word:index for index, word in enumerate(vocab)}\n",
    "        \n",
    "    def wordlist_to_indexlist(wordlist):\n",
    "        return [word_to_index[word] if word in word_to_index \\\n",
    "                else word_to_index['<UNK>'] for word in wordlist]\n",
    "        \n",
    "    X_train = list(map(wordlist_to_indexlist, X_train))\n",
    "    X_test = list(map(wordlist_to_indexlist, X_test))\n",
    "        \n",
    "    return X_train, np.array(list(train_data['label'])), \\\n",
    "            X_test, np.array(list(test_data['label'])),word_to_index\n",
    "    \n",
    "x_train1, y_train1, x_test1, y_test1, word_to_index1 = load_data(train_data, test_data)\n",
    "index_to_word1 = {index:word for word, index in word_to_index1.items()}"
   ]
  },
  {
   "cell_type": "code",
   "execution_count": 331,
   "id": "679b0aed",
   "metadata": {},
   "outputs": [],
   "source": [
    "x_train1 = tf.keras.preprocessing.sequence.pad_sequences(x_train1,\n",
    "                                                        value=word_to_index[\"<PAD>\"],\n",
    "                                                        padding='pre',\n",
    "                                                        maxlen=maxlen)\n",
    "\n",
    "x_test1 = tf.keras.preprocessing.sequence.pad_sequences(x_test1,\n",
    "                                                       value=word_to_index[\"<PAD>\"],\n",
    "                                                       padding='pre',\n",
    "                                                       maxlen=maxlen)"
   ]
  },
  {
   "cell_type": "code",
   "execution_count": 332,
   "id": "03407810",
   "metadata": {},
   "outputs": [
    {
     "data": {
      "text/plain": [
       "25000"
      ]
     },
     "execution_count": 332,
     "metadata": {},
     "output_type": "execute_result"
    }
   ],
   "source": [
    "len(index_to_word1)"
   ]
  },
  {
   "cell_type": "code",
   "execution_count": 333,
   "id": "15f72ebf",
   "metadata": {},
   "outputs": [],
   "source": [
    "vocab_size = 25000    # 어휘 사전의 크기입니다\n",
    "word_vector_dim = 100  # 워드 벡터의 차원수\n",
    "embedding_matrix = np.random.rand(vocab_size, word_vector_dim)\n",
    "\n",
    "# embedding_matrix에 Word2Vec 워드 벡터를 단어 하나씩마다 차례차례 카피한다.\n",
    "for i in range(4,vocab_size):\n",
    "    if index_to_word1[i] in word2vec_pre.wv:   #한국어 word2Vec 임베딩\n",
    "        embedding_matrix[i] = word2vec_pre.wv[index_to_word1[i]]"
   ]
  },
  {
   "cell_type": "code",
   "execution_count": 334,
   "id": "0a412ce2",
   "metadata": {
    "scrolled": true
   },
   "outputs": [
    {
     "name": "stdout",
     "output_type": "stream",
     "text": [
      "Model: \"sequential_28\"\n",
      "_________________________________________________________________\n",
      "Layer (type)                 Output Shape              Param #   \n",
      "=================================================================\n",
      "embedding_28 (Embedding)     (None, 41, 100)           2500000   \n",
      "_________________________________________________________________\n",
      "conv1d_34 (Conv1D)           (None, 35, 16)            11216     \n",
      "_________________________________________________________________\n",
      "max_pooling1d_17 (MaxPooling (None, 7, 16)             0         \n",
      "_________________________________________________________________\n",
      "conv1d_35 (Conv1D)           (None, 1, 16)             1808      \n",
      "_________________________________________________________________\n",
      "global_max_pooling1d_21 (Glo (None, 16)                0         \n",
      "_________________________________________________________________\n",
      "dense_50 (Dense)             (None, 8)                 136       \n",
      "_________________________________________________________________\n",
      "dense_51 (Dense)             (None, 1)                 9         \n",
      "=================================================================\n",
      "Total params: 2,513,169\n",
      "Trainable params: 2,513,169\n",
      "Non-trainable params: 0\n",
      "_________________________________________________________________\n"
     ]
    }
   ],
   "source": [
    "from tensorflow.keras.initializers import Constant\n",
    "\n",
    "vocab_size = 25000    # 어휘 사전의 크기입니다\n",
    "word_vector_dim = 100  # 워드 벡터의 차원 수 \n",
    "\n",
    "# 모델 구성\n",
    "model = tf.keras.Sequential()\n",
    "model.add(tf.keras.layers.Embedding(vocab_size, \n",
    "                                 word_vector_dim, \n",
    "                                 embeddings_initializer=Constant(embedding_matrix),  # 카피한 임베딩을 여기서 활용\n",
    "                                 input_length=maxlen, \n",
    "                                 trainable=True))   # trainable을 True로 주면 Fine-tuning\n",
    "model.add(tf.keras.layers.Conv1D(16, 7, activation='relu'))\n",
    "model.add(tf.keras.layers.MaxPooling1D(5))\n",
    "model.add(tf.keras.layers.Conv1D(16, 7, activation='relu'))\n",
    "model.add(tf.keras.layers.GlobalMaxPooling1D())\n",
    "model.add(tf.keras.layers.Dense(8, activation='relu'))\n",
    "model.add(tf.keras.layers.Dense(1, activation='sigmoid')) \n",
    "\n",
    "model.summary()"
   ]
  },
  {
   "cell_type": "code",
   "execution_count": 335,
   "id": "ecc8a511",
   "metadata": {},
   "outputs": [],
   "source": [
    "# val 비율 변경 \n",
    "# validation set \n",
    "x_val1 = x_train1[:40000]   \n",
    "y_val1 = y_train1[:40000]\n",
    "\n",
    "# validation set을 제외한 나머지 \n",
    "partial_x_train1 = x_train1[40000:]  \n",
    "partial_y_train1 = y_train1[40000:]"
   ]
  },
  {
   "cell_type": "code",
   "execution_count": 336,
   "id": "94b0caa1",
   "metadata": {},
   "outputs": [
    {
     "name": "stdout",
     "output_type": "stream",
     "text": [
      "Epoch 1/10\n",
      "208/208 [==============================] - 2s 7ms/step - loss: 0.6081 - accuracy: 0.6600 - val_loss: 0.5129 - val_accuracy: 0.7464\n",
      "Epoch 2/10\n",
      "208/208 [==============================] - 1s 6ms/step - loss: 0.4675 - accuracy: 0.7811 - val_loss: 0.4413 - val_accuracy: 0.7972\n",
      "Epoch 3/10\n",
      "208/208 [==============================] - 1s 6ms/step - loss: 0.4017 - accuracy: 0.8206 - val_loss: 0.4006 - val_accuracy: 0.8209\n",
      "Epoch 4/10\n",
      "208/208 [==============================] - 1s 6ms/step - loss: 0.3548 - accuracy: 0.8457 - val_loss: 0.3804 - val_accuracy: 0.8336\n",
      "Epoch 5/10\n",
      "208/208 [==============================] - 1s 6ms/step - loss: 0.3219 - accuracy: 0.8630 - val_loss: 0.3692 - val_accuracy: 0.8391\n",
      "Epoch 6/10\n",
      "208/208 [==============================] - 1s 6ms/step - loss: 0.2983 - accuracy: 0.8743 - val_loss: 0.3627 - val_accuracy: 0.8442\n",
      "Epoch 7/10\n",
      "208/208 [==============================] - 1s 6ms/step - loss: 0.2754 - accuracy: 0.8865 - val_loss: 0.3675 - val_accuracy: 0.8448\n",
      "Epoch 8/10\n",
      "208/208 [==============================] - 1s 6ms/step - loss: 0.2540 - accuracy: 0.8975 - val_loss: 0.3718 - val_accuracy: 0.8440\n",
      "Epoch 9/10\n",
      "208/208 [==============================] - 1s 6ms/step - loss: 0.2354 - accuracy: 0.9066 - val_loss: 0.3734 - val_accuracy: 0.8452\n",
      "Epoch 10/10\n",
      "208/208 [==============================] - 1s 6ms/step - loss: 0.2187 - accuracy: 0.9147 - val_loss: 0.3912 - val_accuracy: 0.8449\n"
     ]
    }
   ],
   "source": [
    "# 학습의 진행\n",
    "model.compile(optimizer='adam',\n",
    "              loss='binary_crossentropy',\n",
    "              metrics=['accuracy'])\n",
    "              \n",
    "epochs=10  # 몇 epoch를 훈련하면 좋을지 결과를 보면서 바꾸어 봅시다. \n",
    "\n",
    "history = model.fit(partial_x_train1,\n",
    "                    partial_y_train1,\n",
    "                    epochs=epochs,\n",
    "                    batch_size=512,\n",
    "                    validation_data=(x_val1, y_val1),\n",
    "                    verbose=1)"
   ]
  },
  {
   "cell_type": "code",
   "execution_count": 337,
   "id": "e8877f30",
   "metadata": {},
   "outputs": [
    {
     "data": {
      "text/plain": [
       "Text(0.5, 1.0, 'model_acc')"
      ]
     },
     "execution_count": 337,
     "metadata": {},
     "output_type": "execute_result"
    },
    {
     "data": {
      "image/png": "[encoded data removed]",
      "text/plain": [
       "<Figure size 720x720 with 2 Axes>"
      ]
     },
     "metadata": {
      "needs_background": "light"
     },
     "output_type": "display_data"
    }
   ],
   "source": [
    "epoch = np.arange(1,epochs+1)\n",
    "plt.figure(figsize=(10,10))\n",
    "plt.subplot(211)\n",
    "plt.scatter(epoch,history.history['loss'], label='loss')\n",
    "plt.plot(epoch,history.history['val_loss'], label='val_loss')\n",
    "plt.legend()\n",
    "plt.title(\"model_loss\")\n",
    "plt.subplot(212)\n",
    "plt.scatter(epoch,history.history['accuracy'], label='accuracy')\n",
    "plt.plot(epoch,history.history['val_accuracy'], label='val_accracy')\n",
    "plt.legend()\n",
    "plt.title(\"model_acc\")\n"
   ]
  },
  {
   "cell_type": "code",
   "execution_count": 338,
   "id": "a7ffe1d8",
   "metadata": {},
   "outputs": [
    {
     "name": "stdout",
     "output_type": "stream",
     "text": [
      "1537/1537 - 3s - loss: 0.4076 - accuracy: 0.8383\n",
      "[0.40759679675102234, 0.8382936120033264]\n"
     ]
    }
   ],
   "source": [
    "# 테스트셋을 통한 모델 평가\n",
    "results = model.evaluate(x_test1,  y_test1, verbose=2)\n",
    "\n",
    "print(results)"
   ]
  },
  {
   "cell_type": "code",
   "execution_count": null,
   "id": "178d5f60",
   "metadata": {},
   "outputs": [],
   "source": []
  },
  {
   "cell_type": "code",
   "execution_count": null,
   "id": "3744ab48",
   "metadata": {},
   "outputs": [],
   "source": []
  }
 ],
 "metadata": {
  "kernelspec": {
   "display_name": "Python 3 (ipykernel)",
   "language": "python",
   "name": "python3"
  },
  "language_info": {
   "codemirror_mode": {
    "name": "ipython",
    "version": 3
   },
   "file_extension": ".py",
   "mimetype": "text/x-python",
   "name": "python",
   "nbconvert_exporter": "python",
   "pygments_lexer": "ipython3",
   "version": "3.9.7"
  }
 },
 "nbformat": 4,
 "nbformat_minor": 5
}
